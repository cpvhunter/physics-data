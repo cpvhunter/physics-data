{
 "cells": [
  {
   "cell_type": "markdown",
   "metadata": {
    "slideshow": {
     "slide_type": "slide"
    }
   },
   "source": [
    "## “不求甚解”和“拿来主义”学习法？\n",
    "\n",
    "- 本课程内容比较零散，没有一个推演的体系，与一般的物理课不同\n",
    "  - 一定程度上反映了实验物理学家工作的状态\n",
    "- 要不要把一切都搞懂再做作业呢？\n",
    "  - 要不要把实验做完再去吃饭呢？\n",
    "  - 要不要理解计算机的第一个电子元件才能使用它呢？\n"
   ]
  },
  {
   "cell_type": "markdown",
   "metadata": {
    "slideshow": {
     "slide_type": "subslide"
    }
   },
   "source": [
    "### 打通数理二脉即可推演世界吗？\n",
    "\n",
    "![柏拉图的世界观](./ref/SCI.png)\n",
    "**柏拉图的世界观**"
   ]
  },
  {
   "cell_type": "markdown",
   "metadata": {
    "slideshow": {
     "slide_type": "subslide"
    }
   },
   "source": [
    "### 希望大家能够归纳地学习\n",
    "\n",
    "- 先“不求甚解”再选择最重要的部分“寻根究底”，在两种学习模式间自由跳跃。"
   ]
  },
  {
   "cell_type": "markdown",
   "metadata": {
    "slideshow": {
     "slide_type": "slide"
    }
   },
   "source": [
    "## POSIX 命令行界面：神秘的黑色魔法世界\n",
    "\n",
    "- 熟悉掌握命令行界面对数据处理非常重要\n",
    "- 参考书：Jeroen Janssens, Data Science at the Command Line\n",
    "- 参考视频：苏勇，Linux 入门基础 - 网易云课堂\n",
    "- 我们已经接触的命令：\n",
    "  `ls`, `cd`, `rm`, `git`, `less`, `man`, `cat`, `pwd`"
   ]
  },
  {
   "cell_type": "markdown",
   "metadata": {
    "slideshow": {
     "slide_type": "slide"
    }
   },
   "source": [
    "## 为什么学习命令行\n",
    "\n",
    "- _复现_ 原则的保证\n",
    "  - Python 程序，有明确的功能，定义了输入和输出。\n",
    "  - 仍需要高效且可复现地执行程序，处理数据。\n",
    "- 体现 _透明_ 原则\n",
    "  - 数据的中间结果，可以用命令行工具查看 `cat`, `less`, `h5dump` ...\n",
    "  - 注：对应的图形工具也存在，可互相搭配。\n",
    "- 体现 _一次_ 原则\n",
    "  - `git` 版本控制，图形工具还不成熟\n",
    "- 体现 _最佳工具_ 原则\n",
    "  - POSIX 命令行目前是管理数据处理流程的最佳工具"
   ]
  },
  {
   "cell_type": "markdown",
   "metadata": {
    "slideshow": {
     "slide_type": "subslide"
    }
   },
   "source": [
    "## 命令行的特点\n",
    "\n",
    "### 命令行的易用性\n",
    "\n",
    "- 命令行是天然的 REPL\n",
    "- 命令行有最丰富的文件操作工具\n",
    "- 介于程序设计语言与图形界面之间\n",
    "- 是计算机系统的“母语”，用户于开发者的重叠更大\n",
    "  - 科学计算中，不是任何时候都有现成的工具可用，经常需要自己开发\n",
    "  - 依赖命令行可以缩小开发者与用户的鸿沟\n",
    "\n",
    "### 命令行的整合性和扩展性\n",
    "\n",
    "- 所有的语言工具都可以从命令行调用\n",
    "\n",
    "  - 新的语言写成的命令行工具不断涌现，许多工具非常适合用于数据处理\n",
    "\n",
    "- 命令行是天然的“胶水”，整合各类语言协同工作\n",
    "  - 鼓励小巧精悍工具的组合，避免又长又难理解的马拉松程序出现\n",
    "  - 不论流行的语言如何变化，命令环境的基本风格不变"
   ]
  },
  {
   "cell_type": "markdown",
   "metadata": {
    "slideshow": {
     "slide_type": "subslide"
    }
   },
   "source": [
    "### 命令行的自动性\n",
    "\n",
    "- 使用的命令可以轻易组成脚本，重复使用\n",
    "  - 图形界面不易记录制操作\n",
    "\n",
    "### 命令行的普适性\n",
    "\n",
    "- GNU/Linux, 各种 Unix，Mac OS，Microsoft Windows WSL.\n",
    "- 世界顶级的超级计算机，云计算主机，智能手机，物联网设备都可用同一套命令行工具操作\n",
    "- 已有约50年历史，一定会继续存在"
   ]
  },
  {
   "cell_type": "markdown",
   "metadata": {
    "slideshow": {
     "slide_type": "slide"
    }
   },
   "source": [
    "## 命令的类型\n",
    "\n",
    "- 可执行程序，例如 `ls`\n",
    "- 脚本，例如 Python 程序\n",
    "- 壳内建命令，例如 `cd`\n",
    "- 壳函数\n",
    "- 别名\n",
    "\n",
    "### 壳(shell)\n",
    "\n",
    "- 是相对于操作系统内核(kernel)而言，与人类交互的部分\n",
    "- 有命令行(Command Line Interface, CLI) 和图形 (Graphical User Interface, GUI)两种\n",
    "\n",
    "### 典型的命令行壳：bash\n",
    "- GNU Bourne-Again SHell, 目前使用最为广泛\n",
    "- `man bash` 可阅读在线文档"
   ]
  },
  {
   "cell_type": "code",
   "execution_count": 17,
   "metadata": {
    "slideshow": {
     "slide_type": "subslide"
    }
   },
   "outputs": [
    {
     "data": {
      "text/plain": [
       "ls is aliased to `ls --color=auto'\r\n",
       "ls is /bin/ls\r\n",
       "ls is /bin/ls"
      ]
     },
     "execution_count": 17,
     "metadata": {},
     "output_type": "execute_result"
    }
   ],
   "source": [
    "type -a ls"
   ]
  },
  {
   "cell_type": "code",
   "execution_count": 18,
   "metadata": {},
   "outputs": [
    {
     "data": {
      "text/plain": [
       "cd is a shell builtin"
      ]
     },
     "execution_count": 18,
     "metadata": {},
     "output_type": "execute_result"
    }
   ],
   "source": [
    "type -a cd"
   ]
  },
  {
   "cell_type": "code",
   "execution_count": 19,
   "metadata": {},
   "outputs": [
    {
     "data": {
      "text/plain": [
       "type is a shell builtin"
      ]
     },
     "execution_count": 19,
     "metadata": {},
     "output_type": "execute_result"
    }
   ],
   "source": [
    "type type"
   ]
  },
  {
   "cell_type": "markdown",
   "metadata": {
    "slideshow": {
     "slide_type": "slide"
    }
   },
   "source": [
    "## 管道\n",
    "\n",
    "- 把前一个程序的标准输出和后一个标准输入连接起来\n",
    "- 无限串联\n",
    "- 每个命令各司其职\n"
   ]
  },
  {
   "cell_type": "code",
   "execution_count": 7,
   "metadata": {
    "slideshow": {
     "slide_type": "-"
    }
   },
   "outputs": [
    {
     "data": {
      "text/plain": [
       "I am using the command line!"
      ]
     },
     "execution_count": 7,
     "metadata": {},
     "output_type": "execute_result"
    }
   ],
   "source": [
    "echo \"I am using the command line!\""
   ]
  },
  {
   "cell_type": "code",
   "execution_count": 8,
   "metadata": {
    "slideshow": {
     "slide_type": "-"
    }
   },
   "outputs": [
    {
     "data": {
      "text/plain": [
       "29"
      ]
     },
     "execution_count": 8,
     "metadata": {},
     "output_type": "execute_result"
    }
   ],
   "source": [
    "echo \"I am using the command line!\" | wc -c"
   ]
  },
  {
   "cell_type": "code",
   "execution_count": 13,
   "metadata": {
    "slideshow": {
     "slide_type": "subslide"
    }
   },
   "outputs": [
    {
     "data": {
      "text/plain": [
       "1\r\n",
       "2\r\n",
       "3\r\n",
       "4\r\n",
       "5"
      ]
     },
     "execution_count": 13,
     "metadata": {},
     "output_type": "execute_result"
    }
   ],
   "source": [
    "seq 5"
   ]
  },
  {
   "cell_type": "code",
   "execution_count": 14,
   "metadata": {},
   "outputs": [
    {
     "data": {
      "text/plain": [
       "\u001b[01;31m\u001b[K7\u001b[m\u001b[K\r\n",
       "1\u001b[01;31m\u001b[K7\u001b[m\u001b[K\r\n",
       "2\u001b[01;31m\u001b[K7\u001b[m\u001b[K"
      ]
     },
     "execution_count": 14,
     "metadata": {},
     "output_type": "execute_result"
    }
   ],
   "source": [
    "seq 30 | grep 7"
   ]
  },
  {
   "cell_type": "code",
   "execution_count": 16,
   "metadata": {},
   "outputs": [
    {
     "data": {
      "text/plain": [
       "56"
      ]
     },
     "execution_count": 16,
     "metadata": {},
     "output_type": "execute_result"
    }
   ],
   "source": [
    "seq 100 | grep 7 | wc -c"
   ]
  },
  {
   "cell_type": "markdown",
   "metadata": {
    "slideshow": {
     "slide_type": "slide"
    }
   },
   "source": [
    "## 重定向\n",
    "\n",
    "- 标准输入和输出都可以被重定向到文件"
   ]
  },
  {
   "cell_type": "code",
   "execution_count": 22,
   "metadata": {},
   "outputs": [
    {
     "data": {
      "text/plain": [
       "1\r\n",
       "2\r\n",
       "3\r\n",
       "4\r\n",
       "5\r\n",
       "6\r\n",
       "7\r\n",
       "8\r\n",
       "9\r\n",
       "10"
      ]
     },
     "execution_count": 22,
     "metadata": {},
     "output_type": "execute_result"
    }
   ],
   "source": [
    "seq 100 > s100\n",
    "cat s100 | head"
   ]
  },
  {
   "cell_type": "code",
   "execution_count": 23,
   "metadata": {},
   "outputs": [
    {
     "data": {
      "text/plain": [
       "100"
      ]
     },
     "execution_count": 23,
     "metadata": {},
     "output_type": "execute_result"
    }
   ],
   "source": [
    "wc -l < s100"
   ]
  },
  {
   "cell_type": "markdown",
   "metadata": {
    "slideshow": {
     "slide_type": "slide"
    }
   },
   "source": [
    "## 帮助"
   ]
  },
  {
   "cell_type": "code",
   "execution_count": 26,
   "metadata": {},
   "outputs": [
    {
     "data": {
      "text/plain": [
       "CAT(1)                           User Commands                          CAT(1)\r\n",
       "\r\n",
       "\r\n",
       "\r\n",
       "\u001b[1mNAME\u001b[0m\r\n",
       "       cat - concatenate files and print on the standard output\r\n",
       "\r\n",
       "\u001b[1mSYNOPSIS\u001b[0m\r\n",
       "       \u001b[1mcat \u001b[22m[\u001b[4mOPTION\u001b[24m]... [\u001b[4mFILE\u001b[24m]..."
      ]
     },
     "execution_count": 26,
     "metadata": {},
     "output_type": "execute_result"
    }
   ],
   "source": [
    "# 可执行程序使用 man\n",
    "man cat | head"
   ]
  },
  {
   "cell_type": "code",
   "execution_count": 29,
   "metadata": {
    "slideshow": {
     "slide_type": "subslide"
    }
   },
   "outputs": [
    {
     "data": {
      "text/plain": [
       "cd: cd [-L|[-P [-e]] [-@]] [dir]\r\n",
       "    Change the shell working directory.\r\n",
       "    \r\n",
       "    Change the current directory to DIR.  The default DIR is the value of the\r\n",
       "    HOME shell variable.\r\n",
       "    \r\n",
       "    The variable CDPATH defines the search path for the directory containing\r\n",
       "    DIR.  Alternative directory names in CDPATH are separated by a colon (:).\r\n",
       "    A null directory name is the same as the current directory.  If DIR begins\r\n",
       "    with a slash (/), then CDPATH is not used."
      ]
     },
     "execution_count": 29,
     "metadata": {},
     "output_type": "execute_result"
    }
   ],
   "source": [
    "# 壳命令用 help\n",
    "help cd | head"
   ]
  },
  {
   "cell_type": "code",
   "execution_count": 30,
   "metadata": {
    "slideshow": {
     "slide_type": "subslide"
    }
   },
   "outputs": [
    {
     "data": {
      "text/plain": [
       "Usage: cat [OPTION]... [FILE]...\r\n",
       "Concatenate FILE(s) to standard output.\r\n",
       "\r\n",
       "With no FILE, or when FILE is -, read standard input.\r\n",
       "\r\n",
       "  -A, --show-all           equivalent to -vET\r\n",
       "  -b, --number-nonblank    number nonempty output lines, overrides -n\r\n",
       "  -e                       equivalent to -vE\r\n",
       "  -E, --show-ends          display $ at end of each line\r\n",
       "  -n, --number             number all output lines"
      ]
     },
     "execution_count": 30,
     "metadata": {},
     "output_type": "execute_result"
    }
   ],
   "source": [
    "# 自带的帮助\n",
    "\n",
    "cat --help | head"
   ]
  },
  {
   "cell_type": "markdown",
   "metadata": {
    "slideshow": {
     "slide_type": "slide"
    }
   },
   "source": [
    "## 课堂任务\n",
    "\n",
    "- 试验以下命令，使用各类帮助系统理解它们的用法："
   ]
  },
  {
   "cell_type": "code",
   "execution_count": 1,
   "metadata": {},
   "outputs": [
    {
     "data": {
      "text/plain": [
       "dpcg"
      ]
     },
     "execution_count": 1,
     "metadata": {},
     "output_type": "execute_result"
    }
   ],
   "source": [
    "hostname"
   ]
  },
  {
   "cell_type": "code",
   "execution_count": 3,
   "metadata": {},
   "outputs": [
    {
     "data": {
      "text/plain": [
       "Linux dpcg 4.14.83-gentoo #1 SMP Fri Dec 14 21:12:47 CST 2018 x86_64 Intel(R) Xeon(R) CPU E5620 @ 2.40GHz GenuineIntel GNU/Linux"
      ]
     },
     "execution_count": 3,
     "metadata": {},
     "output_type": "execute_result"
    }
   ],
   "source": [
    "uname -a"
   ]
  },
  {
   "cell_type": "code",
   "execution_count": 4,
   "metadata": {},
   "outputs": [
    {
     "data": {
      "text/plain": [
       "uid=65534(nobody) gid=65534(nobody) groups=65534(nobody)"
      ]
     },
     "execution_count": 4,
     "metadata": {},
     "output_type": "execute_result"
    }
   ],
   "source": [
    "id"
   ]
  },
  {
   "cell_type": "code",
   "execution_count": 1,
   "metadata": {},
   "outputs": [
    {
     "data": {
      "text/plain": [
       "Mon Jul 15 09:07:59 CST 2019"
      ]
     },
     "execution_count": 1,
     "metadata": {},
     "output_type": "execute_result"
    }
   ],
   "source": [
    "date"
   ]
  },
  {
   "cell_type": "markdown",
   "metadata": {
    "slideshow": {
     "slide_type": "subslide"
    }
   },
   "source": [
    "## 课堂任务（备选）\n",
    "\n",
    "- 继续探索试验以下命令"
   ]
  },
  {
   "cell_type": "code",
   "execution_count": 2,
   "metadata": {
    "slideshow": {
     "slide_type": "-"
    }
   },
   "outputs": [
    {
     "data": {
      "text/plain": [
       "09:08:06 up 19:12,  2 users,  load average: 0.00, 0.00, 0.00"
      ]
     },
     "execution_count": 2,
     "metadata": {},
     "output_type": "execute_result"
    }
   ],
   "source": [
    "uptime"
   ]
  },
  {
   "cell_type": "code",
   "execution_count": 24,
   "metadata": {},
   "outputs": [
    {
     "data": {
      "text/plain": [
       "[    0.000000] Linux version 4.14.83-gentoo (root@dpcg) (gcc version 7.3.0 (Gentoo 7.3.0-r3 p1.4)) #1 SMP Fri Dec 14 21:12:47 CST 2018\r\n",
       "[    0.000000] Command line: BOOT_IMAGE=/kernel-dawn-x86_64-4.14.83-gentoo root=/dev/md125 ro domdadm\r\n",
       "[    0.000000] x86/fpu: x87 FPU will use FXSAVE\r\n",
       "[    0.000000] e820: BIOS-provided physical RAM map:\r\n",
       "[    0.000000] BIOS-e820: [mem 0x0000000000000000-0x000000000009bfff] usable\r\n",
       "[    0.000000] BIOS-e820: [mem 0x000000000009c000-0x000000000009ffff] reserved\r\n",
       "[    0.000000] BIOS-e820: [mem 0x00000000000e4000-0x00000000000fffff] reserved\r\n",
       "[    0.000000] BIOS-e820: [mem 0x0000000000100000-0x00000000bf77ffff] usable\r\n",
       "[    0.000000] BIOS-e820: [mem 0x00000000bf78e000-0x00000000bf78ffff] type 9\r\n",
       "[    0.000000] BIOS-e820: [mem 0x00000000bf790000-0x00000000bf79dfff] ACPI data"
      ]
     },
     "execution_count": 24,
     "metadata": {},
     "output_type": "execute_result"
    }
   ],
   "source": [
    "dmesg | head"
   ]
  },
  {
   "cell_type": "code",
   "execution_count": 8,
   "metadata": {
    "slideshow": {
     "slide_type": "subslide"
    }
   },
   "outputs": [
    {
     "data": {
      "text/plain": [
       "./Python-Basics.slides.html\r\n",
       "./Python-Constructs.slides.html\r\n",
       "./Python-Functions.slides.html\r\n",
       "./Berkeley-LIGO-homework/LIGO.slides.html\r\n",
       "./Berkeley-LIGO-homework/LIGO.html\r\n",
       "./Python-Modules.slides.html\r\n",
       "./Data-Formats.slides.html\r\n",
       "./Command-Line.slides.html"
      ]
     },
     "execution_count": 8,
     "metadata": {},
     "output_type": "execute_result"
    }
   ],
   "source": [
    "find . -name \"*.html\""
   ]
  },
  {
   "cell_type": "code",
   "execution_count": 18,
   "metadata": {},
   "outputs": [
    {
     "data": {
      "text/plain": [
       "Python-Basics.slides.html: HTML document, UTF-8 Unicode text, with very long lines"
      ]
     },
     "execution_count": 18,
     "metadata": {},
     "output_type": "execute_result"
    }
   ],
   "source": [
    "file Python-Basics.slides.html"
   ]
  },
  {
   "cell_type": "code",
   "execution_count": 19,
   "metadata": {},
   "outputs": [
    {
     "data": {},
     "execution_count": 19,
     "metadata": {},
     "output_type": "execute_result"
    }
   ],
   "source": [
    "touch nf"
   ]
  },
  {
   "cell_type": "code",
   "execution_count": 20,
   "metadata": {},
   "outputs": [
    {
     "data": {
      "text/plain": [
       "Hi!"
      ]
     },
     "execution_count": 20,
     "metadata": {},
     "output_type": "execute_result"
    }
   ],
   "source": [
    "echo \"Hi!\""
   ]
  },
  {
   "cell_type": "markdown",
   "metadata": {
    "slideshow": {
     "slide_type": "slide"
    }
   },
   "source": [
    "## 通配符\n",
    "\n",
    "- 通配符可以按规则匹配，用于构造简单匹配模式\n",
    "\n",
    "  - `*` 匹配任意多个任意字符\n",
    "  - `?` 匹配一个任意字符"
   ]
  },
  {
   "cell_type": "code",
   "execution_count": 13,
   "metadata": {
    "slideshow": {
     "slide_type": "-"
    }
   },
   "outputs": [
    {
     "data": {
      "text/plain": [
       "Command-Line.slides.html   Python-Constructs.slides.html\r\n",
       "Data-Formats.slides.html   Python-Functions.slides.html\r\n",
       "Python-Basics.slides.html  Python-Modules.slides.html"
      ]
     },
     "execution_count": 13,
     "metadata": {},
     "output_type": "execute_result"
    }
   ],
   "source": [
    "ls *.html"
   ]
  },
  {
   "cell_type": "code",
   "execution_count": 14,
   "metadata": {},
   "outputs": [
    {
     "data": {
      "text/plain": [
       "Command-Line.slides.html Data-Formats.slides.html Python-Basics.slides.html Python-Constructs.slides.html Python-Functions.slides.html Python-Modules.slides.html"
      ]
     },
     "execution_count": 14,
     "metadata": {},
     "output_type": "execute_result"
    }
   ],
   "source": [
    "echo *.html"
   ]
  },
  {
   "cell_type": "code",
   "execution_count": 15,
   "metadata": {
    "slideshow": {
     "slide_type": "subslide"
    }
   },
   "outputs": [
    {
     "data": {
      "text/plain": [
       "Python-Basics.slides.html      Python-Functions.slides.html\r\n",
       "Python-Constructs.slides.html  Python-Modules.slides.html"
      ]
     },
     "execution_count": 15,
     "metadata": {},
     "output_type": "execute_result"
    }
   ],
   "source": [
    "ls Python-*.html"
   ]
  },
  {
   "cell_type": "code",
   "execution_count": 17,
   "metadata": {
    "slideshow": {
     "slide_type": "-"
    }
   },
   "outputs": [
    {
     "data": {
      "text/plain": [
       "Command-Line.ipynb         Python-Basics.ipynb      Python-Modules.ipynb\r\n",
       "Data-Formats.ipynb         Python-Constructs.ipynb\r\n",
       "LOSC_Event_tutorial.ipynb  Python-Functions.ipynb"
      ]
     },
     "execution_count": 17,
     "metadata": {},
     "output_type": "execute_result"
    }
   ],
   "source": [
    "ls *.?pynb"
   ]
  },
  {
   "cell_type": "markdown",
   "metadata": {
    "slideshow": {
     "slide_type": "slide"
    }
   },
   "source": [
    "## 字符串匹配与正则表达式\n",
    "\n",
    "- 正则表达式是一种形式语言\n",
    "  - 形式语言(formal language)是用精确的数学可处理的公式定义的语言\n",
    "  - 可以形式上使用自动机描述\n",
    "- 实用角度：正则表达式可以成为工业标准，用户和引擎开发者完全的社会分工"
   ]
  },
  {
   "cell_type": "code",
   "execution_count": 29,
   "metadata": {
    "slideshow": {
     "slide_type": "subslide"
    }
   },
   "outputs": [
    {
     "data": {
      "text/plain": [
       "\u001b[01;31m\u001b[K13\u001b[m\u001b[K\r\n",
       "\u001b[01;31m\u001b[K23\u001b[m\u001b[K\r\n",
       "\u001b[01;31m\u001b[K33\u001b[m\u001b[K\r\n",
       "\u001b[01;31m\u001b[K43\u001b[m\u001b[K\r\n",
       "\u001b[01;31m\u001b[K53\u001b[m\u001b[K\r\n",
       "\u001b[01;31m\u001b[K63\u001b[m\u001b[K\r\n",
       "\u001b[01;31m\u001b[K73\u001b[m\u001b[K\r\n",
       "\u001b[01;31m\u001b[K83\u001b[m\u001b[K\r\n",
       "\u001b[01;31m\u001b[K93\u001b[m\u001b[K"
      ]
     },
     "execution_count": 29,
     "metadata": {},
     "output_type": "execute_result"
    }
   ],
   "source": [
    "seq 100 | grep '.3'"
   ]
  },
  {
   "cell_type": "markdown",
   "metadata": {
    "slideshow": {
     "slide_type": "-"
    }
   },
   "source": [
    "## 正则表达式的基本要素\n",
    "\n",
    "- `.`代表任意字符\n",
    "- `^`, `$` 开始与结束\n",
    "- `*` 任意重复\n",
    "  - `+` 至少一次重复\n",
    "  - `?` 0或1次\n",
    "- `()` 组合\n",
    "- `|` 或\n",
    "- `[]` 字符集\n",
    "  - `[0-9]`\n",
    "  - `[a-zA-Z]`\n",
    "  - `[^abc]`"
   ]
  }
 ],
 "metadata": {
  "celltoolbar": "Slideshow",
  "kernelspec": {
   "display_name": "MetaKernel Bash",
   "language": "bash",
   "name": "metakernel_bash"
  },
  "language_info": {
   "file_extension": ".sh",
   "help_links": [
    {
     "text": "MetaKernel Magics",
     "url": "https://github.com/calysto/metakernel/blob/master/metakernel/magics/README.md"
    }
   ],
   "mimetype": "text/x-bash",
   "name": "bash"
  }
 },
 "nbformat": 4,
 "nbformat_minor": 2
}

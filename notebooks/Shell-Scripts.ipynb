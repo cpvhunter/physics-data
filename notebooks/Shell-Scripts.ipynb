{
 "cells": [
  {
   "cell_type": "markdown",
   "metadata": {
    "slideshow": {
     "slide_type": "slide"
    }
   },
   "source": [
    "## Shell 脚本\n",
    "\n",
    "- 作业中大家写的 `count.sh` 是 shell 脚本\n",
    "- 把命令们放在一起，就形成了脚本\n",
    "- 脚本可以当作命令使用"
   ]
  },
  {
   "cell_type": "markdown",
   "metadata": {
    "slideshow": {
     "slide_type": "-"
    }
   },
   "source": [
    "## 变量\n",
    "\n",
    "- bash 变量，一切皆字符串"
   ]
  },
  {
   "cell_type": "code",
   "execution_count": 1,
   "metadata": {
    "slideshow": {
     "slide_type": "-"
    }
   },
   "outputs": [
    {
     "data": {
      "text/plain": [
       "1"
      ]
     },
     "execution_count": 1,
     "metadata": {},
     "output_type": "execute_result"
    }
   ],
   "source": [
    "a=1\n",
    "echo $a"
   ]
  },
  {
   "cell_type": "code",
   "execution_count": 8,
   "metadata": {
    "slideshow": {
     "slide_type": "-"
    }
   },
   "outputs": [
    {
     "data": {
      "text/plain": [
       "1我是谁"
      ]
     },
     "execution_count": 8,
     "metadata": {},
     "output_type": "execute_result"
    }
   ],
   "source": [
    "b=我是谁\n",
    "echo $a$b"
   ]
  },
  {
   "cell_type": "code",
   "execution_count": 10,
   "metadata": {
    "slideshow": {
     "slide_type": "subslide"
    }
   },
   "outputs": [
    {
     "data": {
      "text/plain": [
       "1我是谁，我从哪里来"
      ]
     },
     "execution_count": 10,
     "metadata": {},
     "output_type": "execute_result"
    }
   ],
   "source": [
    "echo \"$a$b，我从哪里来\" # 双引号中变量是被替换的"
   ]
  },
  {
   "cell_type": "code",
   "execution_count": 11,
   "metadata": {},
   "outputs": [
    {
     "data": {
      "text/plain": [
       "$a$b，我从哪里来"
      ]
     },
     "execution_count": 11,
     "metadata": {},
     "output_type": "execute_result"
    }
   ],
   "source": [
    "echo '$a$b，我从哪里来' # 单引号中无变量替换"
   ]
  },
  {
   "cell_type": "markdown",
   "metadata": {
    "slideshow": {
     "slide_type": "subslide"
    }
   },
   "source": [
    "## 引用命令的执行结果\n",
    "\n",
    "- 把命令的运行结果赋给变量"
   ]
  },
  {
   "cell_type": "code",
   "execution_count": 16,
   "metadata": {
    "slideshow": {
     "slide_type": "-"
    }
   },
   "outputs": [
    {
     "data": {
      "text/plain": [
       "1 2 3 4 5 6 7 8 9"
      ]
     },
     "execution_count": 16,
     "metadata": {},
     "output_type": "execute_result"
    }
   ],
   "source": [
    "n_list=$(seq 9)\n",
    "echo $n_list"
   ]
  },
  {
   "cell_type": "code",
   "execution_count": 18,
   "metadata": {
    "slideshow": {
     "slide_type": "-"
    }
   },
   "outputs": [
    {
     "data": {
      "text/plain": [
       "23 233 2333"
      ]
     },
     "execution_count": 18,
     "metadata": {},
     "output_type": "execute_result"
    }
   ],
   "source": [
    "n233=$(seq 10000 | egrep ^23+$)\n",
    "echo $n233"
   ]
  },
  {
   "cell_type": "markdown",
   "metadata": {
    "slideshow": {
     "slide_type": "subslide"
    }
   },
   "source": [
    "## bash 的算术不是主要功能\n",
    "\n",
    "- 只能做一些简单的运算"
   ]
  },
  {
   "cell_type": "code",
   "execution_count": 6,
   "metadata": {
    "slideshow": {
     "slide_type": "-"
    }
   },
   "outputs": [
    {
     "data": {
      "text/plain": [
       "4"
      ]
     },
     "execution_count": 6,
     "metadata": {},
     "output_type": "execute_result"
    }
   ],
   "source": [
    "echo $((1+3))"
   ]
  },
  {
   "cell_type": "code",
   "execution_count": 7,
   "metadata": {
    "slideshow": {
     "slide_type": "-"
    }
   },
   "outputs": [
    {
     "data": {
      "text/plain": [
       "15"
      ]
     },
     "execution_count": 7,
     "metadata": {},
     "output_type": "execute_result"
    }
   ],
   "source": [
    "echo $((3*5))"
   ]
  },
  {
   "cell_type": "markdown",
   "metadata": {
    "slideshow": {
     "slide_type": "subslide"
    }
   },
   "source": [
    "### 复杂的运算可以用 `bc` 完成"
   ]
  },
  {
   "cell_type": "code",
   "execution_count": 12,
   "metadata": {},
   "outputs": [
    {
     "data": {
      "text/plain": [
       "10715086071862673209484250490600018105614048117055336074437503883703\\\r\n",
       "51051124936122493198378815695858127594672917553146825187145285692314\\\r\n",
       "04359845775746985748039345677748242309854210746050623711418779541821\\\r\n",
       "53046474983581941267398767559165543946077062914571196477686542167660\\\r\n",
       "429831652624386837205668069376"
      ]
     },
     "execution_count": 12,
     "metadata": {},
     "output_type": "execute_result"
    }
   ],
   "source": [
    "echo '2 ^ 1000' | bc"
   ]
  },
  {
   "cell_type": "code",
   "execution_count": 21,
   "metadata": {},
   "outputs": [
    {
     "data": {
      "text/plain": [
       "bc(1)                       General Commands Manual                      bc(1)\r\n",
       "\r\n",
       "\r\n",
       "\r\n",
       "\u001b[1mNAME\u001b[0m\r\n",
       "       bc - An arbitrary precision calculator language\r\n",
       "\r\n",
       "\u001b[1mSYNTAX\u001b[0m\r\n",
       "       \u001b[1mbc \u001b[22m[ \u001b[1m-hlwsqv \u001b[22m] [long-options] [  \u001b[4mfile\u001b[24m \u001b[4m...\u001b[24m ]"
      ]
     },
     "execution_count": 21,
     "metadata": {},
     "output_type": "execute_result"
    }
   ],
   "source": [
    "man bc 2> /dev/null | head"
   ]
  },
  {
   "cell_type": "markdown",
   "metadata": {
    "slideshow": {
     "slide_type": "slide"
    }
   },
   "source": [
    "## 脚本的参数\n",
    "\n",
    "- 脚本调用时的参数，在脚本中使用 `$1` `$2`\n",
    "  - 相当于 Python 的 `sys.argv[1]`, `sys.argv[2]`\n",
    "- 所有的参数是 `$@`"
   ]
  },
  {
   "cell_type": "code",
   "execution_count": 22,
   "metadata": {
    "slideshow": {
     "slide_type": "-"
    }
   },
   "outputs": [
    {
     "data": {
      "text/plain": [
       "#!/bin/sh\r\n",
       "exec /bin/grep -E \"$@\""
      ]
     },
     "execution_count": 22,
     "metadata": {},
     "output_type": "execute_result"
    }
   ],
   "source": [
    "cat /bin/egrep"
   ]
  },
  {
   "cell_type": "code",
   "execution_count": 26,
   "metadata": {},
   "outputs": [
    {
     "data": {
      "text/plain": [
       "/usr/bin/zcmp:                          POSIX \u001b[01;31m\u001b[Kshell\u001b[m\u001b[K script, ASCII text executable\r\n",
       "/usr/bin/zdiff:                         POSIX \u001b[01;31m\u001b[Kshell\u001b[m\u001b[K script, ASCII text executable\r\n",
       "/usr/bin/zegrep:                        POSIX \u001b[01;31m\u001b[Kshell\u001b[m\u001b[K script, ASCII text executable\r\n",
       "/usr/bin/zfgrep:                        POSIX \u001b[01;31m\u001b[Kshell\u001b[m\u001b[K script, ASCII text executable\r\n",
       "/usr/bin/zforce:                        POSIX \u001b[01;31m\u001b[Kshell\u001b[m\u001b[K script, ASCII text executable\r\n",
       "/usr/bin/zgrep:                         POSIX \u001b[01;31m\u001b[Kshell\u001b[m\u001b[K script, ASCII text executable\r\n",
       "/usr/bin/zipgrep:                       POSIX \u001b[01;31m\u001b[Kshell\u001b[m\u001b[K script, ASCII text executable\r\n",
       "/usr/bin/zless:                         POSIX \u001b[01;31m\u001b[Kshell\u001b[m\u001b[K script, ASCII text executable\r\n",
       "/usr/bin/zmore:                         POSIX \u001b[01;31m\u001b[Kshell\u001b[m\u001b[K script, ASCII text executable\r\n",
       "/usr/bin/znew:                          POSIX \u001b[01;31m\u001b[Kshell\u001b[m\u001b[K script, ASCII text executable\r\n",
       "/usr/bin/zstdgrep:                      POSIX \u001b[01;31m\u001b[Kshell\u001b[m\u001b[K script, ASCII text executable\r\n",
       "/usr/bin/zstdless:                      POSIX \u001b[01;31m\u001b[Kshell\u001b[m\u001b[K script, ASCII text executable"
      ]
     },
     "execution_count": 26,
     "metadata": {},
     "output_type": "execute_result"
    }
   ],
   "source": [
    "file /usr/bin/z* | grep shell"
   ]
  },
  {
   "cell_type": "markdown",
   "metadata": {
    "slideshow": {
     "slide_type": "slide"
    }
   },
   "source": [
    "## 选择结构"
   ]
  },
  {
   "cell_type": "code",
   "execution_count": 27,
   "metadata": {},
   "outputs": [
    {
     "data": {
      "text/plain": [
       "3>2"
      ]
     },
     "execution_count": 27,
     "metadata": {},
     "output_type": "execute_result"
    }
   ],
   "source": [
    "if [ 3 -gt 2 ]; then\n",
    "    echo \"3>2\"\n",
    "else\n",
    "    echo \"3<=2\"\n",
    "fi"
   ]
  },
  {
   "cell_type": "code",
   "execution_count": 31,
   "metadata": {},
   "outputs": [
    {
     "data": {
      "text/plain": [
       "TEST(1)                          User Commands                         TEST(1)\r\n",
       "\r\n",
       "\r\n",
       "\r\n",
       "\u001b[1mNAME\u001b[0m\r\n",
       "       test - check file types and compare values\r\n",
       "\r\n",
       "\u001b[1mSYNOPSIS\u001b[0m\r\n",
       "       \u001b[1mtest \u001b[4m\u001b[22mEXPRESSION\u001b[0m\r\n",
       "       \u001b[1mtest\u001b[0m"
      ]
     },
     "execution_count": 31,
     "metadata": {},
     "output_type": "execute_result"
    }
   ],
   "source": [
    "man test | head"
   ]
  },
  {
   "cell_type": "markdown",
   "metadata": {
    "slideshow": {
     "slide_type": "slide"
    }
   },
   "source": [
    "## 循环结构\n"
   ]
  },
  {
   "cell_type": "code",
   "execution_count": 34,
   "metadata": {},
   "outputs": [
    {
     "data": {
      "text/plain": [
       "144"
      ]
     },
     "execution_count": 34,
     "metadata": {},
     "output_type": "execute_result"
    }
   ],
   "source": [
    "x=1\n",
    "y=1\n",
    "for i in $(seq 10); do\n",
    "    s=$(($x+$y))\n",
    "    x=$y\n",
    "    y=$s\n",
    "done\n",
    "\n",
    "echo $y"
   ]
  },
  {
   "cell_type": "markdown",
   "metadata": {
    "slideshow": {
     "slide_type": "slide"
    }
   },
   "source": [
    "## 函数"
   ]
  },
  {
   "cell_type": "code",
   "execution_count": 44,
   "metadata": {
    "slideshow": {
     "slide_type": "-"
    }
   },
   "outputs": [
    {
     "data": {
      "text/plain": [
       "Hello, 1"
      ]
     },
     "execution_count": 44,
     "metadata": {},
     "output_type": "execute_result"
    }
   ],
   "source": [
    "function greet() {\n",
    "    echo \"Hello, $1\"\n",
    "}\n",
    "\n",
    "\n",
    "echo $(greet 1)"
   ]
  },
  {
   "cell_type": "code",
   "execution_count": 47,
   "metadata": {
    "slideshow": {
     "slide_type": "subslide"
    }
   },
   "outputs": [
    {
     "data": {
      "text/plain": [
       "144"
      ]
     },
     "execution_count": 47,
     "metadata": {},
     "output_type": "execute_result"
    }
   ],
   "source": [
    "# 请大家不要用 bash 做算术\n",
    "\n",
    "function fib() {\n",
    "    if [ $1 -le 2 ]; then\n",
    "        echo $1\n",
    "    else\n",
    "        echo $(($(fib $(($1-1))) + $(fib $(($1-2)))))\n",
    "    fi\n",
    "}\n",
    "\n",
    "echo $(fib 11)"
   ]
  },
  {
   "cell_type": "markdown",
   "metadata": {
    "slideshow": {
     "slide_type": "slide"
    }
   },
   "source": [
    "# 字符的变换\n",
    "## tr: translate charactors\n",
    "\n",
    "- 可把单个字符进行替换"
   ]
  },
  {
   "cell_type": "code",
   "execution_count": 48,
   "metadata": {
    "slideshow": {
     "slide_type": "-"
    }
   },
   "outputs": [
    {
     "data": {
      "text/plain": [
       "1 2 3 4 5 6 7 8 9 10"
      ]
     },
     "execution_count": 48,
     "metadata": {},
     "output_type": "execute_result"
    }
   ],
   "source": [
    "seq 10 | tr '\\n' ' '"
   ]
  },
  {
   "cell_type": "code",
   "execution_count": 50,
   "metadata": {
    "slideshow": {
     "slide_type": "-"
    }
   },
   "outputs": [
    {
     "data": {
      "text/plain": [
       "1 2 3 4 5 6 7 8 9 10"
      ]
     },
     "execution_count": 50,
     "metadata": {},
     "output_type": "execute_result"
    }
   ],
   "source": [
    "seq -s ' ' 10"
   ]
  },
  {
   "cell_type": "code",
   "execution_count": 52,
   "metadata": {
    "slideshow": {
     "slide_type": "-"
    }
   },
   "outputs": [
    {
     "data": {
      "text/plain": [
       "heddo"
      ]
     },
     "execution_count": 52,
     "metadata": {},
     "output_type": "execute_result"
    }
   ],
   "source": [
    "# 把 'lo' 换成 'do'?\n",
    "\n",
    "echo hello | tr 'lo' 'do'\n",
    "\n",
    "# 做不到"
   ]
  },
  {
   "cell_type": "markdown",
   "metadata": {
    "slideshow": {
     "slide_type": "slide"
    }
   },
   "source": [
    "## sed: stream editor\n",
    "\n",
    "- `sed` 是 stream editor，在\"流\"上进行编辑\n",
    "- 常用的操作是替换，可以使用正则表达式\n",
    "- 它的前身是 `ed`"
   ]
  },
  {
   "cell_type": "code",
   "execution_count": 53,
   "metadata": {
    "slideshow": {
     "slide_type": "-"
    }
   },
   "outputs": [
    {
     "data": {
      "text/plain": [
       "heldo"
      ]
     },
     "execution_count": 53,
     "metadata": {},
     "output_type": "execute_result"
    }
   ],
   "source": [
    "echo hello | sed 's/lo/do/'"
   ]
  },
  {
   "cell_type": "code",
   "execution_count": 59,
   "metadata": {
    "slideshow": {
     "slide_type": "subslide"
    }
   },
   "outputs": [
    {
     "data": {
      "text/plain": [
       "00,01,02,03,04,05,06,07,08,09\r\n",
       "10,11,12,13,14,15,16,17,18,19\r\n",
       "20,21,22,23,24,25,26,27,28,29\r\n",
       "30,31,32,33,34,35,36,37,38,39\r\n",
       "40,41,42,43,44,45,46,47,48,49\r\n",
       "50,51,52,53,54,55,56,57,58,59\r\n",
       "60,61,62,63,64,65,66,67,68,69\r\n",
       "70,71,72,73,74,75,76,77,78,79\r\n",
       "80,81,82,83,84,85,86,87,88,89\r\n",
       "90,91,92,93,94,95,96,97,98,99"
      ]
     },
     "execution_count": 59,
     "metadata": {},
     "output_type": "execute_result"
    }
   ],
   "source": [
    "# 生成 csv\n",
    "\n",
    "seq -s, -w 00 99 | sed 's/9,/9\\n/g'"
   ]
  },
  {
   "cell_type": "code",
   "execution_count": 66,
   "metadata": {
    "slideshow": {
     "slide_type": "subslide"
    }
   },
   "outputs": [
    {
     "data": {
      "text/plain": [
       "SED(1)                           User Commands                          SED(1)\r\n",
       "\r\n",
       "\r\n",
       "\r\n",
       "\u001b[1mNAME\u001b[0m\r\n",
       "       sed - stream editor for filtering and transforming text\r\n",
       "\r\n",
       "\u001b[1mSYNOPSIS\u001b[0m\r\n",
       "       \u001b[1msed \u001b[22m[\u001b[4mOPTION\u001b[24m]... \u001b[4m{script-only-if-no-other-script}\u001b[24m [\u001b[4minput-file\u001b[24m]..."
      ]
     },
     "execution_count": 66,
     "metadata": {},
     "output_type": "execute_result"
    }
   ],
   "source": [
    "man sed 2> /dev/null | head"
   ]
  },
  {
   "cell_type": "code",
   "execution_count": 67,
   "metadata": {
    "slideshow": {
     "slide_type": "subslide"
    }
   },
   "outputs": [
    {
     "data": {
      "text/plain": [
       "--2019-07-16 12:34:01--  http://hep.tsinghua.edu.cn/~orv/pd/sources.list\r\n",
       "Resolving hep.tsinghua.edu.cn... 101.6.6.219\r\n",
       "Connecting to hep.tsinghua.edu.cn|101.6.6.219|:80... connected.\r\n",
       "HTTP request sent, awaiting response... 200 OK\r\n",
       "Length: 1784 (1.7K)\r\n",
       "Saving to: ‘sources.list’\r\n",
       "\r\n",
       "\r",
       "sources.list          0%[                    ]       0  --.-KB/s               \r",
       "sources.list        100%[===================>]   1.74K  --.-KB/s    in 0s      \r\n",
       "\r\n",
       "2019-07-16 12:34:01 (275 MB/s) - ‘sources.list’ saved [1784/1784]"
      ]
     },
     "execution_count": 67,
     "metadata": {},
     "output_type": "execute_result"
    }
   ],
   "source": [
    "wget http://hep.tsinghua.edu.cn/~orv/pd/sources.list"
   ]
  },
  {
   "cell_type": "code",
   "execution_count": 71,
   "metadata": {
    "slideshow": {
     "slide_type": "-"
    }
   },
   "outputs": [
    {
     "data": {
      "text/plain": [
       "# deb cdrom:[Ubuntu 14.04 LTS _Trusty Tahr_ - Release amd64 (20140417)]/ trusty main restricted\r\n",
       "\r\n",
       "# See http://help.ubuntu.com/community/UpgradeNotes for how to upgrade to\r\n",
       "# newer versions of the distribution.\r\n",
       "deb http://mirrors.tuna.tsinghua.edu.cn/ubuntu/ trusty main restricted universe multiverse\r\n",
       "deb-src http://mirrors.tuna.tsinghua.edu.cn/ubuntu/ trusty main restricted universe multiverse\r\n",
       "\r\n",
       "## Major bug fix updates produced after the final release of the\r\n",
       "## distribution.\r\n",
       "deb http://mirrors.tuna.tsinghua.edu.cn/ubuntu/ trusty-updates main restricted universe multiverse"
      ]
     },
     "execution_count": 71,
     "metadata": {},
     "output_type": "execute_result"
    }
   ],
   "source": [
    "sed 's,archive.canonical.com/,mirrors.tuna.tsinghua.edu.cn/,' sources.list | head\n",
    "# 尝试使用 -i 选项，对文件进行修改"
   ]
  },
  {
   "cell_type": "markdown",
   "metadata": {
    "slideshow": {
     "slide_type": "-"
    }
   },
   "source": [
    "## `head`, `tail`\n",
    "\n",
    "- 取前几行，后几行"
   ]
  },
  {
   "cell_type": "code",
   "execution_count": 62,
   "metadata": {
    "slideshow": {
     "slide_type": "-"
    }
   },
   "outputs": [
    {
     "data": {
      "text/plain": [
       "00,01,02,03,04,05,06,07,08,09\r\n",
       "10,11,12,13,14,15,16,17,18,19\r\n",
       "20,21,22,23,24,25,26,27,28,29"
      ]
     },
     "execution_count": 62,
     "metadata": {},
     "output_type": "execute_result"
    }
   ],
   "source": [
    "seq -s, -w 00 99 | sed 's/9,/9\\n/g' | head -n 3"
   ]
  },
  {
   "cell_type": "code",
   "execution_count": 63,
   "metadata": {
    "slideshow": {
     "slide_type": "-"
    }
   },
   "outputs": [
    {
     "data": {
      "text/plain": [
       "80,81,82,83,84,85,86,87,88,89\r\n",
       "90,91,92,93,94,95,96,97,98,99"
      ]
     },
     "execution_count": 63,
     "metadata": {},
     "output_type": "execute_result"
    }
   ],
   "source": [
    "seq -s, -w 00 99 | sed 's/9,/9\\n/g' | tail -n 2"
   ]
  },
  {
   "cell_type": "markdown",
   "metadata": {
    "slideshow": {
     "slide_type": "slide"
    }
   },
   "source": [
    "## 综合练习：批量改名\n",
    "\n",
    "- shell 调用中，不同的字段都是用空格分隔，如果文件名中有空格就要格外注意"
   ]
  },
  {
   "cell_type": "code",
   "execution_count": 90,
   "metadata": {
    "slideshow": {
     "slide_type": "-"
    }
   },
   "outputs": [
    {
     "data": {
      "text/plain": [
       "a b: UTF-8 Unicode text"
      ]
     },
     "execution_count": 90,
     "metadata": {},
     "output_type": "execute_result"
    }
   ],
   "source": [
    "mkdir practice; cd practice\n",
    "echo '我是一个文件名带空格的文件' > 'a b'\n",
    "file 'a b'"
   ]
  },
  {
   "cell_type": "code",
   "execution_count": 91,
   "metadata": {},
   "outputs": [
    {
     "data": {
      "text/plain": [
       "我是一个文件名带空格的文件"
      ]
     },
     "execution_count": 91,
     "metadata": {},
     "output_type": "execute_result"
    }
   ],
   "source": [
    "fn='a b'\n",
    "cat \"$fn\""
   ]
  },
  {
   "cell_type": "markdown",
   "metadata": {
    "slideshow": {
     "slide_type": "fragment"
    }
   },
   "source": [
    "- 使用起来十分不便，一般可以把空格，替换成下划线'_'"
   ]
  },
  {
   "cell_type": "code",
   "execution_count": 92,
   "metadata": {
    "slideshow": {
     "slide_type": "subslide"
    }
   },
   "outputs": [
    {
     "data": {
      "text/plain": [
       "'a b'  'left-handed neutrino'  'quantum mechanics'  'shell script'"
      ]
     },
     "execution_count": 92,
     "metadata": {},
     "output_type": "execute_result"
    }
   ],
   "source": [
    "# 加一些其它文件\n",
    "touch 'shell script' 'quantum mechanics' 'left-handed neutrino'\n",
    "ls *\" \"*"
   ]
  },
  {
   "cell_type": "code",
   "execution_count": 102,
   "metadata": {
    "slideshow": {
     "slide_type": "-"
    }
   },
   "outputs": [
    {
     "data": {},
     "execution_count": 102,
     "metadata": {},
     "output_type": "execute_result"
    }
   ],
   "source": [
    "cd ..\n",
    "cp -r practice practice.orig\n",
    "cd practice"
   ]
  },
  {
   "cell_type": "code",
   "execution_count": 103,
   "metadata": {},
   "outputs": [
    {
     "data": {
      "text/plain": [
       "a b\r\n",
       "left-handed neutrino\r\n",
       "quantum mechanics\r\n",
       "shell script"
      ]
     },
     "execution_count": 103,
     "metadata": {},
     "output_type": "execute_result"
    }
   ],
   "source": [
    "for fn in *; do echo \"$fn\"; done"
   ]
  },
  {
   "cell_type": "code",
   "execution_count": 104,
   "metadata": {
    "slideshow": {
     "slide_type": "subslide"
    }
   },
   "outputs": [
    {
     "data": {
      "text/plain": [
       "a b a_b\r\n",
       "left-handed neutrino left-handed_neutrino\r\n",
       "quantum mechanics quantum_mechanics\r\n",
       "shell script shell_script"
      ]
     },
     "execution_count": 104,
     "metadata": {},
     "output_type": "execute_result"
    }
   ],
   "source": [
    "for fn in *; do\n",
    "    echo \"$fn\" $(echo \"$fn\" | tr ' ' _)\n",
    "done"
   ]
  },
  {
   "cell_type": "code",
   "execution_count": 105,
   "metadata": {
    "slideshow": {
     "slide_type": "-"
    }
   },
   "outputs": [
    {
     "data": {
      "text/plain": [
       "a_b  left-handed_neutrino  quantum_mechanics  shell_script"
      ]
     },
     "execution_count": 105,
     "metadata": {},
     "output_type": "execute_result"
    }
   ],
   "source": [
    "for fn in *; do\n",
    "     mv -v \"$fn\" $(echo \"$fn\" | tr ' ' _)\n",
    "done\n",
    "ls\n",
    "cd .."
   ]
  },
  {
   "cell_type": "markdown",
   "metadata": {
    "slideshow": {
     "slide_type": "subslide"
    }
   },
   "source": [
    "## 其它方法\n",
    "\n",
    "- 还有很多方法可以达到相同的目的\n",
    "- 比如 bash 内建的变量格式，比如 `raname` 命令"
   ]
  },
  {
   "cell_type": "code",
   "execution_count": 107,
   "metadata": {
    "slideshow": {
     "slide_type": "-"
    }
   },
   "outputs": [
    {
     "data": {
      "text/plain": [
       "quantum_mechanics"
      ]
     },
     "execution_count": 107,
     "metadata": {},
     "output_type": "execute_result"
    }
   ],
   "source": [
    "x=\"quantum mechanics\"\n",
    "echo ${x/ /_}"
   ]
  },
  {
   "cell_type": "code",
   "execution_count": null,
   "metadata": {},
   "outputs": [],
   "source": [
    "rename ' ' _ *\" \"*"
   ]
  },
  {
   "cell_type": "markdown",
   "metadata": {
    "slideshow": {
     "slide_type": "subslide"
    }
   },
   "source": [
    "## xargs\n",
    "\n",
    "- 用来对每个输入进行改动"
   ]
  },
  {
   "cell_type": "code",
   "execution_count": null,
   "metadata": {
    "slideshow": {
     "slide_type": "-"
    }
   },
   "outputs": [],
   "source": [
    "seq 0 9 | xargs -I {} touch data-{}.csv"
   ]
  },
  {
   "cell_type": "markdown",
   "metadata": {
    "slideshow": {
     "slide_type": "slide"
    }
   },
   "source": [
    "## find\n",
    "\n",
    "- 查找文件"
   ]
  },
  {
   "cell_type": "code",
   "execution_count": null,
   "metadata": {
    "slideshow": {
     "slide_type": "-"
    }
   },
   "outputs": [],
   "source": [
    "find / -name bin -type d"
   ]
  },
  {
   "cell_type": "code",
   "execution_count": null,
   "metadata": {},
   "outputs": [],
   "source": []
  }
 ],
 "metadata": {
  "celltoolbar": "Slideshow",
  "kernelspec": {
   "display_name": "MetaKernel Bash",
   "language": "bash",
   "name": "metakernel_bash"
  },
  "language_info": {
   "file_extension": ".sh",
   "help_links": [
    {
     "text": "MetaKernel Magics",
     "url": "https://github.com/calysto/metakernel/blob/master/metakernel/magics/README.md"
    }
   ],
   "mimetype": "text/x-bash",
   "name": "bash"
  }
 },
 "nbformat": 4,
 "nbformat_minor": 2
}

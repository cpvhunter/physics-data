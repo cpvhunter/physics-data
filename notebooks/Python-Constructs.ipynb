{
 "cells": [
  {
   "cell_type": "markdown",
   "metadata": {
    "slideshow": {
     "slide_type": "slide"
    }
   },
   "source": [
    "## 复习\n",
    "\n",
    "- 同学们对新的计算环境和工具不太适应，是正常的。\n",
    "  - 我会把技能跨度压缩到最低，并且与助教一起全力帮助同学们掌握。\n",
    "  - 同学们在自发探索和总结更友好的方式，非常棒。\n",
    "- 命令行的准备主要是从 Git 的实用性考虑，也有第三周的教学需要。\n",
    "  - 掌握之后威力巨大。\n",
    "- 学习小组分组，小助教自我介绍"
   ]
  },
  {
   "cell_type": "markdown",
   "metadata": {
    "slideshow": {
     "slide_type": "subslide"
    }
   },
   "source": [
    "- Git 操作的复习和演示\n",
    "- Python 的入门：代数运算，变量，字符串，标准输入输出\n",
    "- Python 的价值观，用计算机时间换取人类时间，以代码效率为代价换取便利\n",
    "  - 高精度整数\n",
    "  - 无类型变量 (目前计算机学术界存在争议)\n",
    "  - 世界通用 Unicode 字符串"
   ]
  },
  {
   "cell_type": "markdown",
   "metadata": {
    "slideshow": {
     "slide_type": "subslide"
    }
   },
   "source": [
    "### 大作业组队\n",
    "\n",
    "- 组队完成大作业，至多3人一队。\n",
    "- 在大作业中包括一份`contribution.pdf`文档，注明队伍成员的分工。\n",
    "  - 与 Git 提交历史一起作为备选参考"
   ]
  },
  {
   "cell_type": "markdown",
   "metadata": {
    "slideshow": {
     "slide_type": "subslide"
    }
   },
   "source": [
    "### VSCode Remote\n",
    "\n",
    "- Microsoft Windows 的 WSL 用户，可以在`/mnt/c`访问到主机上的`C:`盘。\n",
    "- 有同学探索出了使用 VSCode Remote 的方法，很强大。"
   ]
  },
  {
   "cell_type": "markdown",
   "metadata": {
    "slideshow": {
     "slide_type": "slide"
    }
   },
   "source": [
    "## Python 字符串的基本操作\n",
    "\n",
    "字符串的操作相对于硬件调用，是一项高级功能。Python 有强大的字符串处理工具。\n"
   ]
  },
  {
   "cell_type": "code",
   "execution_count": 6,
   "metadata": {
    "slideshow": {
     "slide_type": "-"
    }
   },
   "outputs": [
    {
     "data": {
      "text/plain": [
       "('12', 'ab')"
      ]
     },
     "execution_count": 6,
     "metadata": {},
     "output_type": "execute_result"
    }
   ],
   "source": [
    "\"1\"+\"2\", \"a\"+\"b\""
   ]
  },
  {
   "cell_type": "code",
   "execution_count": 9,
   "metadata": {
    "slideshow": {
     "slide_type": "-"
    }
   },
   "outputs": [
    {
     "data": {
      "text/plain": [
       "(6, 6)"
      ]
     },
     "execution_count": 9,
     "metadata": {},
     "output_type": "execute_result"
    }
   ],
   "source": [
    "len('123456'), len('654321') # 字符串长度"
   ]
  },
  {
   "cell_type": "code",
   "execution_count": 13,
   "metadata": {
    "slideshow": {
     "slide_type": "-"
    }
   },
   "outputs": [
    {
     "data": {
      "text/plain": [
       "'3 乘以 5 等于 15'"
      ]
     },
     "execution_count": 13,
     "metadata": {},
     "output_type": "execute_result"
    }
   ],
   "source": [
    "\"{} 乘以 {} 等于 {}\".format(3, 5, 3*5) # 把变量嵌入字符串"
   ]
  },
  {
   "cell_type": "code",
   "execution_count": 18,
   "metadata": {
    "slideshow": {
     "slide_type": "-"
    }
   },
   "outputs": [
    {
     "data": {
      "text/plain": [
       "('我', '在上', '。')"
      ]
     },
     "execution_count": 18,
     "metadata": {},
     "output_type": "execute_result"
    }
   ],
   "source": [
    "s = \"我正在上课。\"\n",
    "s[0], s[2:4], s[-1] # 字符串可以取子串"
   ]
  },
  {
   "cell_type": "markdown",
   "metadata": {
    "slideshow": {
     "slide_type": "slide"
    }
   },
   "source": [
    "## None 值\n",
    "\n",
    "None 是一个特殊的值，代表空、无、无法表达或者非法的结果"
   ]
  },
  {
   "cell_type": "code",
   "execution_count": 20,
   "metadata": {
    "slideshow": {
     "slide_type": "-"
    }
   },
   "outputs": [
    {
     "name": "stdout",
     "output_type": "stream",
     "text": [
      "None\n"
     ]
    }
   ],
   "source": [
    "print(None)"
   ]
  },
  {
   "cell_type": "code",
   "execution_count": 22,
   "metadata": {
    "slideshow": {
     "slide_type": "-"
    }
   },
   "outputs": [
    {
     "data": {
      "text/plain": [
       "(False, True)"
      ]
     },
     "execution_count": 22,
     "metadata": {},
     "output_type": "execute_result"
    }
   ],
   "source": [
    "x = None # None 可以被赋值\n",
    "1 is None, x is None # 可以被判断"
   ]
  },
  {
   "cell_type": "code",
   "execution_count": 25,
   "metadata": {
    "slideshow": {
     "slide_type": "-"
    }
   },
   "outputs": [
    {
     "data": {
      "text/plain": [
       "False"
      ]
     },
     "execution_count": 25,
     "metadata": {},
     "output_type": "execute_result"
    }
   ],
   "source": [
    "bool(None) # None 也可以当作“假”被判断"
   ]
  },
  {
   "cell_type": "markdown",
   "metadata": {
    "slideshow": {
     "slide_type": "fragment"
    }
   },
   "source": [
    "None 比较抽象，更多的例子我们遇到再讲"
   ]
  },
  {
   "cell_type": "markdown",
   "metadata": {
    "slideshow": {
     "slide_type": "slide"
    }
   },
   "source": [
    "## Python 的基本程序结构\n",
    "\n",
    "### 顺序结构\n",
    "### 选择结构\n",
    "### 循环结构"
   ]
  },
  {
   "cell_type": "markdown",
   "metadata": {
    "slideshow": {
     "slide_type": "slide"
    }
   },
   "source": [
    "## 选择结构\n",
    "\n",
    "- `if`...`else`."
   ]
  },
  {
   "cell_type": "code",
   "execution_count": 87,
   "metadata": {
    "slideshow": {
     "slide_type": "-"
    }
   },
   "outputs": [
    {
     "name": "stdout",
     "output_type": "stream",
     "text": [
      "23 不是 2 的倍数\n"
     ]
    }
   ],
   "source": [
    "x = 23\n",
    "\n",
    "if x % 2:\n",
    "    print(\"{} 不是 2 的倍数\".format(x))\n",
    "else:\n",
    "    print(\"{} 是 2 的倍数\".format(x))"
   ]
  },
  {
   "cell_type": "markdown",
   "metadata": {
    "slideshow": {
     "slide_type": "fragment"
    }
   },
   "source": [
    "### Python 的缩进\n",
    "在 Python 中缩进是基本的语法，因此一个强大的程序编辑器非常重要。\n",
    "\n",
    "对比：`C` 语言，缩进只是为了美观。\n",
    "\n",
    "```int main() {\n",
    "    return 0;\n",
    "}\n",
    "```\n",
    "\n",
    "和\n",
    "\n",
    "`int main() { return 0; }`\n",
    "\n",
    "等价。"
   ]
  },
  {
   "cell_type": "markdown",
   "metadata": {
    "slideshow": {
     "slide_type": "slide"
    }
   },
   "source": [
    "## 循环结构\n",
    "\n",
    "Python 有 `for` 和 `while` 两种循环结构，除了基本功能之外，还有 Python 特有的便利用法"
   ]
  },
  {
   "cell_type": "code",
   "execution_count": 33,
   "metadata": {
    "slideshow": {
     "slide_type": "-"
    }
   },
   "outputs": [
    {
     "name": "stdout",
     "output_type": "stream",
     "text": [
      "0\n",
      "1\n",
      "2\n",
      "3\n",
      "4\n"
     ]
    }
   ],
   "source": [
    "a = 0\n",
    "while a < 5:\n",
    "    print(a) # 同样是通过缩进来定义循环范围\n",
    "    a = a + 1"
   ]
  },
  {
   "cell_type": "code",
   "execution_count": 34,
   "metadata": {
    "slideshow": {
     "slide_type": "subslide"
    }
   },
   "outputs": [
    {
     "name": "stdout",
     "output_type": "stream",
     "text": [
      "0\n",
      "1\n",
      "2\n",
      "3\n",
      "4\n"
     ]
    }
   ],
   "source": [
    "for a in range(5):\n",
    "    print(a)"
   ]
  },
  {
   "cell_type": "markdown",
   "metadata": {
    "slideshow": {
     "slide_type": "-"
    }
   },
   "source": [
    "`range`返回一个Iterator，又称为“迭代器”。\n",
    "```\n",
    "0, 1, 2, 3, 4\n",
    "^\n",
    "\n",
    "0, 1, 2, 3, 4\n",
    "   ^\n",
    "\n",
    "0, 1, 2, 3, 4\n",
    "            ^\n",
    "```\n",
    "\n",
    "`for` 可以把它们依次取出来。"
   ]
  },
  {
   "cell_type": "code",
   "execution_count": 39,
   "metadata": {
    "slideshow": {
     "slide_type": "subslide"
    }
   },
   "outputs": [
    {
     "name": "stdout",
     "output_type": "stream",
     "text": [
      "我\n",
      "爱\n",
      "吃\n",
      "瓜\n",
      "，\n",
      "瓜\n",
      "好\n",
      "甜\n",
      "。\n"
     ]
    }
   ],
   "source": [
    "s=\"我爱吃瓜，瓜好甜。\"\n",
    "for x in s:\n",
    "    print(x) # 字符串也可以拿来做循环"
   ]
  },
  {
   "cell_type": "code",
   "execution_count": 40,
   "metadata": {
    "slideshow": {
     "slide_type": "fragment"
    }
   },
   "outputs": [
    {
     "name": "stdout",
     "output_type": "stream",
     "text": [
      "我\n",
      "爱\n",
      "吃\n",
      "瓜\n",
      "，\n",
      "瓜\n",
      "好\n",
      "甜\n",
      "。\n"
     ]
    }
   ],
   "source": [
    "i = 0 # 体会上一种写法的简洁性\n",
    "for i in range(len(s)):\n",
    "    print(s[i])"
   ]
  },
  {
   "cell_type": "markdown",
   "metadata": {
    "slideshow": {
     "slide_type": "slide"
    }
   },
   "source": [
    "## 复合类型\n",
    "\n",
    "- Python 的基本类型，比如整型、浮点型、布尔型、字符串。\n",
    "- 它们可以复合起来，成为列表或字典。\n",
    "\n",
    "### 列表\n",
    "- 把单元前后排成一列，单元为任意类型。"
   ]
  },
  {
   "cell_type": "code",
   "execution_count": 46,
   "metadata": {
    "slideshow": {
     "slide_type": "-"
    }
   },
   "outputs": [
    {
     "data": {
      "text/plain": [
       "([1, 2, 3], ['天', '地', '人'], ['物理', 3.1415926])"
      ]
     },
     "execution_count": 46,
     "metadata": {},
     "output_type": "execute_result"
    }
   ],
   "source": [
    "[1,2,3], [\"天\",\"地\",\"人\"], [\"物理\",3.1415926]"
   ]
  },
  {
   "cell_type": "code",
   "execution_count": 48,
   "metadata": {
    "slideshow": {
     "slide_type": "-"
    }
   },
   "outputs": [
    {
     "data": {
      "text/plain": [
       "([], [[]], [[], [[]]], [[], [[], [[]]]])"
      ]
     },
     "execution_count": 48,
     "metadata": {},
     "output_type": "execute_result"
    }
   ],
   "source": [
    "[], [[]], [[],[[]]], [[],[[],[[]]]] # 可以构造自然数"
   ]
  },
  {
   "cell_type": "markdown",
   "metadata": {
    "slideshow": {
     "slide_type": "subslide"
    }
   },
   "source": [
    "### 列表可以用来汇总\n",
    "\n",
    "- 从一个空列表出发，逐步加入元素"
   ]
  },
  {
   "cell_type": "code",
   "execution_count": 50,
   "metadata": {
    "slideshow": {
     "slide_type": "-"
    }
   },
   "outputs": [
    {
     "name": "stdout",
     "output_type": "stream",
     "text": [
      "['手机', '充电器', '身份证', '钥匙', '电脑']\n"
     ]
    }
   ],
   "source": [
    "li = []\n",
    "li.append(\"手机\")\n",
    "li.append(\"充电器\")\n",
    "li.append(\"身份证\")\n",
    "li.append(\"钥匙\")\n",
    "li.append(\"电脑\")\n",
    "\n",
    "print(li)"
   ]
  },
  {
   "cell_type": "code",
   "execution_count": 51,
   "metadata": {
    "slideshow": {
     "slide_type": "-"
    }
   },
   "outputs": [
    {
     "name": "stdout",
     "output_type": "stream",
     "text": [
      "出门之前，别忘了带手机\n",
      "出门之前，别忘了带充电器\n",
      "出门之前，别忘了带身份证\n",
      "出门之前，别忘了带钥匙\n",
      "出门之前，别忘了带电脑\n"
     ]
    }
   ],
   "source": [
    "for i in li: # 可以使用 for 依次取出\n",
    "    print(\"出门之前，别忘了带{}\".format(i))"
   ]
  },
  {
   "cell_type": "code",
   "execution_count": 52,
   "metadata": {
    "slideshow": {
     "slide_type": "subslide"
    }
   },
   "outputs": [
    {
     "data": {
      "text/plain": [
       "('手机', ['身份证', '钥匙'], '电脑')"
      ]
     },
     "execution_count": 52,
     "metadata": {},
     "output_type": "execute_result"
    }
   ],
   "source": [
    "li[0], li[2:4], li[-1] # 也可以定点取出"
   ]
  },
  {
   "cell_type": "code",
   "execution_count": 53,
   "metadata": {
    "slideshow": {
     "slide_type": "-"
    }
   },
   "outputs": [
    {
     "data": {
      "text/plain": [
       "(True, False)"
      ]
     },
     "execution_count": 53,
     "metadata": {},
     "output_type": "execute_result"
    }
   ],
   "source": [
    "'手机' in li, \"眼镜\" in li # 使用 in 来判断属于关系"
   ]
  },
  {
   "cell_type": "markdown",
   "metadata": {
    "slideshow": {
     "slide_type": "slide"
    }
   },
   "source": [
    "## 字典是一个可以索引的数据结构\n",
    "```\n",
    "'工物' => 20\n",
    "'物理' => 40\n",
    "'上海交大’ => 2\n",
    "'牛津' => 1\n",
    "```\n",
    "\n",
    "`key => value`"
   ]
  },
  {
   "cell_type": "code",
   "execution_count": 66,
   "metadata": {
    "slideshow": {
     "slide_type": "fragment"
    }
   },
   "outputs": [
    {
     "data": {
      "text/plain": [
       "(20, 40)"
      ]
     },
     "execution_count": 66,
     "metadata": {},
     "output_type": "execute_result"
    }
   ],
   "source": [
    "sc = {'工物': 20, '物理': 40}\n",
    "sc['工物'], sc['物理']"
   ]
  },
  {
   "cell_type": "code",
   "execution_count": 67,
   "metadata": {
    "slideshow": {
     "slide_type": "-"
    }
   },
   "outputs": [
    {
     "name": "stdout",
     "output_type": "stream",
     "text": [
      "2\n"
     ]
    }
   ],
   "source": [
    "sc['上海交大']=2\n",
    "print(sc['上海交大'])"
   ]
  },
  {
   "cell_type": "code",
   "execution_count": 74,
   "metadata": {
    "slideshow": {
     "slide_type": "-"
    }
   },
   "outputs": [
    {
     "name": "stdout",
     "output_type": "stream",
     "text": [
      "False True\n"
     ]
    }
   ],
   "source": [
    "print('牛津' in sc, '工物' in sc)\n",
    "sc['牛津']=1"
   ]
  },
  {
   "cell_type": "markdown",
   "metadata": {
    "slideshow": {
     "slide_type": "subslide"
    }
   },
   "source": [
    "## 字典可以简化条件语句\n",
    "\n",
    "在需要多重判断时，使用字典会有奇效。"
   ]
  },
  {
   "cell_type": "code",
   "execution_count": 71,
   "metadata": {
    "slideshow": {
     "slide_type": "-"
    }
   },
   "outputs": [
    {
     "name": "stdout",
     "output_type": "stream",
     "text": [
      "20\n"
     ]
    }
   ],
   "source": [
    "aff = '工物'\n",
    "if aff == '工物':\n",
    "    print(20)\n",
    "elif aff == '物理':\n",
    "    print(40)\n",
    "elif aff == \"上海交大\":\n",
    "    print(2)\n",
    "elif aff == \"牛津\":\n",
    "    print(1)\n",
    "else:\n",
    "    print(0)"
   ]
  },
  {
   "cell_type": "code",
   "execution_count": 72,
   "metadata": {
    "slideshow": {
     "slide_type": "fragment"
    }
   },
   "outputs": [
    {
     "name": "stdout",
     "output_type": "stream",
     "text": [
      "20\n"
     ]
    }
   ],
   "source": [
    "print(sc[aff])"
   ]
  },
  {
   "cell_type": "markdown",
   "metadata": {
    "slideshow": {
     "slide_type": "slide"
    }
   },
   "source": [
    "## 字典的简单操作"
   ]
  },
  {
   "cell_type": "code",
   "execution_count": 82,
   "metadata": {
    "slideshow": {
     "slide_type": "-"
    }
   },
   "outputs": [
    {
     "data": {
      "text/plain": [
       "(['工物', '物理', '上海交大', '牛津'], [20, 40, 2, 1])"
      ]
     },
     "execution_count": 82,
     "metadata": {},
     "output_type": "execute_result"
    }
   ],
   "source": [
    "list(sc.keys()), list(sc.values())"
   ]
  },
  {
   "cell_type": "code",
   "execution_count": 83,
   "metadata": {
    "slideshow": {
     "slide_type": "-"
    }
   },
   "outputs": [
    {
     "name": "stdout",
     "output_type": "stream",
     "text": [
      "工物\n",
      "物理\n",
      "上海交大\n",
      "牛津\n"
     ]
    }
   ],
   "source": [
    "for k in sc:\n",
    "    print(k) # 默认取 key"
   ]
  },
  {
   "cell_type": "code",
   "execution_count": 84,
   "metadata": {
    "slideshow": {
     "slide_type": "-"
    }
   },
   "outputs": [
    {
     "name": "stdout",
     "output_type": "stream",
     "text": [
      "20\n",
      "40\n",
      "2\n",
      "1\n"
     ]
    }
   ],
   "source": [
    "for v in sc.values():\n",
    "    print(v)"
   ]
  },
  {
   "cell_type": "code",
   "execution_count": 86,
   "metadata": {
    "slideshow": {
     "slide_type": "-"
    }
   },
   "outputs": [
    {
     "name": "stdout",
     "output_type": "stream",
     "text": [
      "来自工物的同学有20人\n",
      "来自物理的同学有40人\n",
      "来自上海交大的同学有2人\n",
      "来自牛津的同学有1人\n"
     ]
    }
   ],
   "source": [
    "for k,v in sc.items():\n",
    "    print(\"来自{}的同学有{}人\".format(k, v))"
   ]
  },
  {
   "cell_type": "code",
   "execution_count": null,
   "metadata": {},
   "outputs": [],
   "source": []
  }
 ],
 "metadata": {
  "celltoolbar": "Slideshow",
  "kernelspec": {
   "display_name": "Python 3",
   "language": "python3",
   "name": "python3"
  },
  "language_info": {
   "codemirror_mode": {
    "name": "ipython",
    "version": 3
   },
   "file_extension": ".py",
   "mimetype": "text/x-python",
   "name": "python",
   "nbconvert_exporter": "python",
   "pygments_lexer": "ipython3",
   "version": "3.6.5"
  }
 },
 "nbformat": 4,
 "nbformat_minor": 2
}

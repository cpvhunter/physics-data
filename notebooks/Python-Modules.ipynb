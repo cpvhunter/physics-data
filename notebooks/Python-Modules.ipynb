{
 "cells": [
  {
   "cell_type": "markdown",
   "metadata": {
    "slideshow": {
     "slide_type": "slide"
    }
   },
   "source": [
    "## 科学数据分析的基本原则\n",
    "\n",
    "- <u>复现</u> 原则\n",
    "\n",
    "   http://statements.ufl.edu/statements/2019/july/university-statement-regarding-student-death.html\n",
    "\n",
    "> 有人说造假也分种类，有些问题不大呢，好多人都修改数据为求结果好看一些。\n",
    "> 那我觉得说这些话的人也许已经忘记了自己读PhD的时候，在重复不出别人文章里的结果时是有多么的抓狂了。\n",
    "\n",
    "- <u>透明</u>, <u>一次</u>, <u>最佳工具</u> 原则"
   ]
  },
  {
   "cell_type": "markdown",
   "metadata": {
    "slideshow": {
     "slide_type": "subslide"
    }
   },
   "source": [
    "## 2019年的最佳工具\n",
    "- 版本控制: Git\n",
    "- 大数据方法的载体：Python\n",
    "  - 易读懂易书写，功能丰富，可调用其它语言的工具库\n",
    "  - 使用计算机时间换取人类时间\n",
    "- 保持开放的心态，保持好奇心，锻炼自学能力"
   ]
  },
  {
   "cell_type": "markdown",
   "metadata": {
    "slideshow": {
     "slide_type": "slide"
    }
   },
   "source": [
    "## Python 的注释\n",
    "\n",
    "- 注释使用 '#' 号引出"
   ]
  },
  {
   "cell_type": "code",
   "execution_count": 2,
   "metadata": {
    "slideshow": {
     "slide_type": "-"
    }
   },
   "outputs": [
    {
     "data": {
      "text/plain": [
       "10715086071862673209484250490600018105614048117055336074437503883703510511249361224931983788156958581275946729175531468251871452856923140435984577574698574803934567774824230985421074605062371141877954182153046474983581941267398767559165543946077062914571196477686542167660429831652624386837205668069376"
      ]
     },
     "execution_count": 2,
     "metadata": {},
     "output_type": "execute_result"
    }
   ],
   "source": [
    "# 高精度整数举例\n",
    "2**1000"
   ]
  },
  {
   "cell_type": "markdown",
   "metadata": {
    "slideshow": {
     "slide_type": "subslide"
    }
   },
   "source": [
    "### 多行注释\n",
    "\n",
    "多行注释可多次使用 '#'"
   ]
  },
  {
   "cell_type": "code",
   "execution_count": null,
   "metadata": {
    "slideshow": {
     "slide_type": "-"
    }
   },
   "outputs": [],
   "source": [
    "# 在这个程序中，我们将使用计算球谐函数对任意\n",
    "# 球面上的连续函数进行拟合"
   ]
  },
  {
   "cell_type": "markdown",
   "metadata": {
    "slideshow": {
     "slide_type": "subslide"
    }
   },
   "source": [
    "### 函数的文档\n",
    "\n",
    "- 在函数定义后，紧跟一个字符串，可以定义函数的文档。\n",
    "- 用多行字符串很方便。"
   ]
  },
  {
   "cell_type": "code",
   "execution_count": 10,
   "metadata": {
    "slideshow": {
     "slide_type": "-"
    }
   },
   "outputs": [
    {
     "name": "stdout",
     "output_type": "stream",
     "text": [
      "Help on function spherical_harmonic_fitter in module __main__:\n",
      "\n",
      "spherical_harmonic_fitter(grid, order)\n",
      "    求球谐函数的拟合系数\n",
      "\n"
     ]
    }
   ],
   "source": [
    "def spherical_harmonic_fitter(grid, order):\n",
    "    \"求球谐函数拟合的系数\"\n",
    "    \n",
    "    # 具体实现省略\n",
    "    pass\n",
    "\n",
    "help(spherical_harmonic_fitter)"
   ]
  },
  {
   "cell_type": "code",
   "execution_count": 12,
   "metadata": {
    "slideshow": {
     "slide_type": "subslide"
    }
   },
   "outputs": [
    {
     "name": "stdout",
     "output_type": "stream",
     "text": [
      "Help on function spherical_harmonic_fitter in module __main__:\n",
      "\n",
      "spherical_harmonic_fitter(grid, order)\n",
      "    求球谐函数拟合的系数\n",
      "    \n",
      "    输入\n",
      "    ~~~\n",
      "    grid: 球面上连续函数在固定格点上的取值\n",
      "    order: 拟合时球谐函数近似截断的阶数\n",
      "    \n",
      "    输出\n",
      "    ~~~\n",
      "    拟合系数矩阵\n",
      "\n"
     ]
    }
   ],
   "source": [
    "def spherical_harmonic_fitter(grid, order):\n",
    "    '''\n",
    "    求球谐函数拟合的系数\n",
    "    \n",
    "    输入\n",
    "    ~~~\n",
    "    grid: 球面上连续函数在固定格点上的取值\n",
    "    order: 拟合时球谐函数近似截断的阶数\n",
    "    \n",
    "    输出\n",
    "    ~~~\n",
    "    拟合系数矩阵\n",
    "    '''\n",
    "    \n",
    "    # 具体实现省略\n",
    "    pass\n",
    "\n",
    "help(spherical_harmonic_fitter)"
   ]
  },
  {
   "cell_type": "markdown",
   "metadata": {
    "slideshow": {
     "slide_type": "subslide"
    }
   },
   "source": [
    "## 文档的普遍性\n",
    "\n",
    "- 我们学习过的内容都有帮助文档可以随时查阅"
   ]
  },
  {
   "cell_type": "code",
   "execution_count": 13,
   "metadata": {
    "slideshow": {
     "slide_type": "-"
    }
   },
   "outputs": [
    {
     "name": "stdout",
     "output_type": "stream",
     "text": [
      "Help on NoneType object:\n",
      "\n",
      "class NoneType(object)\n",
      " |  Methods defined here:\n",
      " |  \n",
      " |  __bool__(self, /)\n",
      " |      self != 0\n",
      " |  \n",
      " |  __new__(*args, **kwargs) from builtins.type\n",
      " |      Create and return a new object.  See help(type) for accurate signature.\n",
      " |  \n",
      " |  __repr__(self, /)\n",
      " |      Return repr(self).\n",
      "\n"
     ]
    }
   ],
   "source": [
    "help(None)"
   ]
  },
  {
   "cell_type": "markdown",
   "metadata": {
    "slideshow": {
     "slide_type": "slide"
    }
   },
   "source": [
    "## Python 的模块系统\n",
    "\n",
    "- 函数用来实现代码复用的目的，践行 <u>一次</u> 原则\n",
    "- 模块的直观理解：相关的函数集合起来，整理到相应的名字空间 (namespace) 中\n",
    "  - 模块可以用 Python 实现，也可以由 C 等编译语言实现"
   ]
  },
  {
   "cell_type": "code",
   "execution_count": 17,
   "metadata": {
    "slideshow": {
     "slide_type": "-"
    }
   },
   "outputs": [
    {
     "name": "stdout",
     "output_type": "stream",
     "text": [
      "Help on built-in function factorial in module math:\n",
      "\n",
      "factorial(...)\n",
      "    factorial(x) -> Integral\n",
      "    \n",
      "    Find x!. Raise a ValueError if x is negative or non-integral.\n",
      "\n"
     ]
    }
   ],
   "source": [
    "import math # 加载 math 模块\n",
    "help(math.factorial)"
   ]
  },
  {
   "cell_type": "code",
   "execution_count": 16,
   "metadata": {
    "slideshow": {
     "slide_type": "-"
    }
   },
   "outputs": [
    {
     "data": {
      "text/plain": [
       "3628800"
      ]
     },
     "execution_count": 16,
     "metadata": {},
     "output_type": "execute_result"
    }
   ],
   "source": [
    "math.factorial(10)"
   ]
  },
  {
   "cell_type": "markdown",
   "metadata": {
    "slideshow": {
     "slide_type": "subslide"
    }
   },
   "source": [
    "### 加载模块时，可以自定义名称\n",
    "\n",
    "- 对于较长的模块名很有用"
   ]
  },
  {
   "cell_type": "code",
   "execution_count": 18,
   "metadata": {
    "slideshow": {
     "slide_type": "-"
    }
   },
   "outputs": [
    {
     "data": {
      "text/plain": [
       "3628800"
      ]
     },
     "execution_count": 18,
     "metadata": {},
     "output_type": "execute_result"
    }
   ],
   "source": [
    "import math as m\n",
    "m.factorial(10)"
   ]
  },
  {
   "cell_type": "markdown",
   "metadata": {
    "slideshow": {
     "slide_type": "subslide"
    }
   },
   "source": [
    "### 多层名字的加载方法\n",
    "\n",
    "1. 直接使用多层名字空间\n",
    "2. 使用 `from`"
   ]
  },
  {
   "cell_type": "code",
   "execution_count": 21,
   "metadata": {
    "slideshow": {
     "slide_type": "-"
    }
   },
   "outputs": [
    {
     "name": "stdout",
     "output_type": "stream",
     "text": [
      "Help on function abspath in module posixpath:\n",
      "\n",
      "abspath(path)\n",
      "    Return an absolute path.\n",
      "\n"
     ]
    }
   ],
   "source": [
    "import os\n",
    "help(os.path.abspath)"
   ]
  },
  {
   "cell_type": "code",
   "execution_count": 23,
   "metadata": {
    "slideshow": {
     "slide_type": "-"
    }
   },
   "outputs": [
    {
     "data": {
      "text/plain": [
       "True"
      ]
     },
     "execution_count": 23,
     "metadata": {},
     "output_type": "execute_result"
    }
   ],
   "source": [
    "from os.path import abspath\n",
    "abspath is os.path.abspath"
   ]
  },
  {
   "cell_type": "code",
   "execution_count": 24,
   "metadata": {
    "slideshow": {
     "slide_type": "-"
    }
   },
   "outputs": [
    {
     "data": {
      "text/plain": [
       "True"
      ]
     },
     "execution_count": 24,
     "metadata": {},
     "output_type": "execute_result"
    }
   ],
   "source": [
    "from os.path import abspath as absp\n",
    "absp is os.path.abspath"
   ]
  },
  {
   "cell_type": "markdown",
   "metadata": {
    "slideshow": {
     "slide_type": "slide"
    }
   },
   "source": [
    "## Python 的 Numpy 数组\n",
    "\n",
    "- Numpy 起源于使用 Python 语言调用 fortran 进行线性代数运算的需求。\n",
    "- 已经发展成为 Python 科学计算的基石\n",
    "\n",
    "### 安装 Numpy\n",
    "\n",
    "```\n",
    "$ sudo apt install python3-numpy\n",
    "\n",
    "Preparing to unpack .../python3-numpy_1%3a1.16.2-1_amd64.deb ...\n",
    "Unpacking python3-numpy (1:1.16.2-1) ...\n",
    "Setting up python3-numpy (1:1.16.2-1) ...\n",
    "```"
   ]
  },
  {
   "cell_type": "code",
   "execution_count": 27,
   "metadata": {
    "slideshow": {
     "slide_type": "-"
    }
   },
   "outputs": [
    {
     "name": "stdout",
     "output_type": "stream",
     "text": [
      "[1 2 3 4 3 2 1]\n"
     ]
    }
   ],
   "source": [
    "import numpy as np\n",
    "\n",
    "nv = np.array([1,2,3,4,3,2,1])\n",
    "print(nv)"
   ]
  },
  {
   "cell_type": "markdown",
   "metadata": {
    "slideshow": {
     "slide_type": "subslide"
    }
   },
   "source": [
    "### 数组与列表的联系与区别\n",
    "\n",
    "- 数组操作的语法与列表相似\n",
    "- 数组 (Numpy array) 要求元素的数据类型被预设且一致，列表 (List) 无此要求\n",
    "- 数组的存储是一段连续的内存空间，列表不是\n",
    "- 以上两点使得在数值计算中，数组的效率比列表高很多"
   ]
  },
  {
   "cell_type": "code",
   "execution_count": 29,
   "metadata": {
    "slideshow": {
     "slide_type": "-"
    }
   },
   "outputs": [
    {
     "data": {
      "text/plain": [
       "(3, array([2, 1]), 1)"
      ]
     },
     "execution_count": 29,
     "metadata": {},
     "output_type": "execute_result"
    }
   ],
   "source": [
    "nv[2], nv[5:], nv[-1]"
   ]
  },
  {
   "cell_type": "markdown",
   "metadata": {
    "slideshow": {
     "slide_type": "subslide"
    }
   },
   "source": [
    "### 二维数组用来表示矩阵"
   ]
  },
  {
   "cell_type": "code",
   "execution_count": 32,
   "metadata": {
    "slideshow": {
     "slide_type": "-"
    }
   },
   "outputs": [
    {
     "name": "stdout",
     "output_type": "stream",
     "text": [
      "[[1 0]\n",
      " [0 1]]\n"
     ]
    }
   ],
   "source": [
    "ma = np.array([[1,0], [0,1]])\n",
    "print(ma)"
   ]
  },
  {
   "cell_type": "code",
   "execution_count": 34,
   "metadata": {
    "slideshow": {
     "slide_type": "-"
    }
   },
   "outputs": [
    {
     "data": {
      "text/plain": [
       "(numpy.ndarray, (2, 2))"
      ]
     },
     "execution_count": 34,
     "metadata": {},
     "output_type": "execute_result"
    }
   ],
   "source": [
    "type(ma), ma.shape"
   ]
  },
  {
   "cell_type": "code",
   "execution_count": null,
   "metadata": {},
   "outputs": [],
   "source": []
  }
 ],
 "metadata": {
  "celltoolbar": "Slideshow",
  "kernelspec": {
   "display_name": "Python 3",
   "language": "python3",
   "name": "python3"
  },
  "language_info": {
   "codemirror_mode": {
    "name": "ipython",
    "version": 3
   },
   "file_extension": ".py",
   "mimetype": "text/x-python",
   "name": "python",
   "nbconvert_exporter": "python",
   "pygments_lexer": "ipython3",
   "version": "3.6.5"
  }
 },
 "nbformat": 4,
 "nbformat_minor": 2
}

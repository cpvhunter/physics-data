{
 "cells": [
  {
   "cell_type": "markdown",
   "metadata": {
    "ein.tags": "worksheet-0",
    "slideshow": {
     "slide_type": "slide"
    }
   },
   "source": [
    "## 作业的评分器\n",
    "- 评分器本质上是自动测试框架\n",
    "  - 自动测试是目前为止，软件工程中最有效的保证程序可靠性的做法\n",
    "  - 不仅保证程序逻辑正确，还要保证输入输出符合约定\n",
    "- 实验的数据处理中，上游程序的输出是下游程序的输入\n",
    "  - 程序出界仅仅被人类理解是不够的\n",
    "  - 如果不符合格式约定，后一个程序或者会崩溃，或者误读数据造成不易察觉的错误\n",
    "  - 一旦科学结果被发表，纠正错误将牵扯诸多非科学因素"
   ]
  },
  {
   "cell_type": "markdown",
   "metadata": {
    "ein.tags": "worksheet-0",
    "slideshow": {
     "slide_type": "subslide"
    }
   },
   "source": [
    "### 测试框架可以促进协作\n",
    "- 上游程序使用测试器模拟下游的读入\n",
    "- 下游程序使用测试器模拟上游的输出\n",
    "\n",
    "- 请主动设计测试输入样例，与同学分享刁钻的测试输入"
   ]
  },
  {
   "cell_type": "markdown",
   "metadata": {
    "ein.tags": "worksheet-0",
    "slideshow": {
     "slide_type": "slide"
    }
   },
   "source": [
    "## 特别作业预告\n",
    "- 星期三下午 4 到 5 点，一次快速小作业\n",
    "  - 星期三请假的同学，注意在 4 到 5 点的时间窗口线上完成作业。\n",
    "- 内容是关于 Numpy 数组和矩阵的数值计算\n",
    "\n",
    "- 禁代码交流和抄袭，其它无要求。"
   ]
  },
  {
   "cell_type": "markdown",
   "metadata": {
    "ein.tags": "worksheet-0",
    "slideshow": {
     "slide_type": "slide"
    }
   },
   "source": [
    "## 数据格式\n",
    "\n",
    "- <u>透明</u> 原则，数据格式默认由计算机处理，但要易于被人类理解和检查。\n",
    "- CSV, HDF5, JSON\n",
    "- 数据格式本质上是数据转化：\n",
    "  - 转化过程中是否有损失？\n",
    "  - 转化是否方便？"
   ]
  },
  {
   "cell_type": "markdown",
   "metadata": {
    "ein.tags": "worksheet-0",
    "slideshow": {
     "slide_type": "slide"
    }
   },
   "source": [
    "## Comma separated values (CSV)\n",
    "\n",
    "- 文本文件，易于阅读\n",
    "  - 文本天然是一个表格\n",
    "- 适合传递整数，文字或者对精度没有要求的浮点数\n"
   ]
  },
  {
   "cell_type": "code",
   "execution_count": 1,
   "metadata": {
    "autoscroll": false,
    "ein.hycell": false,
    "ein.tags": "worksheet-0",
    "slideshow": {
     "slide_type": "-"
    }
   },
   "outputs": [],
   "source": [
    "import numpy as np\n",
    "hz = np.arange(100)\n",
    "hz.shape = (10,10)\n"
   ]
  },
  {
   "cell_type": "code",
   "execution_count": 2,
   "metadata": {
    "autoscroll": false,
    "ein.hycell": false,
    "ein.tags": "worksheet-0",
    "slideshow": {
     "slide_type": "subslide"
    }
   },
   "outputs": [],
   "source": [
    "opt = open(\"hz.csv\", \"wb\")\n",
    "np.savetxt(opt, hz)\n",
    "opt.close()\n",
    "\n",
    "# 等价于：\n",
    "with open(\"hz.csv\", \"wb\") as opt:\n",
    "    np.savetxt(opt, hz)\n"
   ]
  },
  {
   "cell_type": "markdown",
   "metadata": {
    "ein.tags": "worksheet-0",
    "slideshow": {
     "slide_type": "-"
    }
   },
   "source": [
    "## 查看保存的文件\n",
    "\n",
    "- `cat` 命令，\"concatenate\" 的缩写，可以显示文件内容，即向标准输出写入。\n",
    "\n",
    "```\n",
    "0.000000000000000000e+00 1.000000000000000000e+00 2.000000000000000000e+00 3.000000000000000000e+00\n",
    "1.000000000000000000e+01 1.100000000000000000e+01 1.200000000000000000e+01 1.300000000000000000e+01\n",
    "```\n",
    "\n",
    "- 不是很易读，因为 `np.savetxt()` 的默认格式是 `fmt='%.18e'`.\n",
    "- `fmt=%d` 按整数输出。\n",
    "  - 深入学习关键字：C format specifiers"
   ]
  },
  {
   "cell_type": "code",
   "execution_count": 3,
   "metadata": {
    "autoscroll": false,
    "ein.hycell": false,
    "ein.tags": "worksheet-0",
    "slideshow": {
     "slide_type": "-"
    }
   },
   "outputs": [],
   "source": [
    "with open(\"hz.csv\", \"w\") as opt:\n",
    "    np.savetxt(opt, hz, fmt=\"%d\")\n"
   ]
  },
  {
   "cell_type": "code",
   "execution_count": 4,
   "metadata": {
    "autoscroll": false,
    "ein.hycell": false,
    "ein.tags": "worksheet-0",
    "slideshow": {
     "slide_type": "subslide"
    }
   },
   "outputs": [
    {
     "name": "stdout",
     "output_type": "stream",
     "text": [
      "[[ 0.  1.  2.  3.  4.  5.  6.  7.  8.  9.]\n",
      " [10. 11. 12. 13. 14. 15. 16. 17. 18. 19.]\n",
      " [20. 21. 22. 23. 24. 25. 26. 27. 28. 29.]\n",
      " [30. 31. 32. 33. 34. 35. 36. 37. 38. 39.]\n",
      " [40. 41. 42. 43. 44. 45. 46. 47. 48. 49.]\n",
      " [50. 51. 52. 53. 54. 55. 56. 57. 58. 59.]\n",
      " [60. 61. 62. 63. 64. 65. 66. 67. 68. 69.]\n",
      " [70. 71. 72. 73. 74. 75. 76. 77. 78. 79.]\n",
      " [80. 81. 82. 83. 84. 85. 86. 87. 88. 89.]\n",
      " [90. 91. 92. 93. 94. 95. 96. 97. 98. 99.]]\n"
     ]
    }
   ],
   "source": [
    "# 读入\n",
    "with open(\"hz.csv\") as ipt:\n",
    "    csv_hz = np.loadtxt(ipt)\n",
    "print(csv_hz)"
   ]
  },
  {
   "cell_type": "markdown",
   "metadata": {
    "ein.tags": "worksheet-0",
    "slideshow": {
     "slide_type": "subslide"
    }
   },
   "source": [
    "## 数据类型\n",
    "- Numpy 数组需要指定数据类型\n",
    "  - `np.int16`, `np.int32`, `np.int64`, `int`\n",
    "  - `np.float16`, `np.float32`, `np.float64`, `float`\n",
    "  - `np.complex64`\n"
   ]
  },
  {
   "cell_type": "code",
   "execution_count": 8,
   "metadata": {
    "autoscroll": false,
    "ein.hycell": false,
    "ein.tags": "worksheet-0",
    "slideshow": {
     "slide_type": "-"
    }
   },
   "outputs": [
    {
     "name": "stdout",
     "output_type": "stream",
     "text": [
      "int64\n"
     ]
    }
   ],
   "source": [
    "print(hz.dtype) # np.arange(100) 接受整型参数返回整型"
   ]
  },
  {
   "cell_type": "code",
   "execution_count": 9,
   "metadata": {
    "autoscroll": false,
    "ein.hycell": false,
    "ein.tags": "worksheet-0",
    "slideshow": {
     "slide_type": "-"
    }
   },
   "outputs": [
    {
     "name": "stdout",
     "output_type": "stream",
     "text": [
      "float64\n"
     ]
    }
   ],
   "source": [
    "print(r_hz.dtype) # loadtxt 默认以 float 类型读入"
   ]
  },
  {
   "cell_type": "code",
   "execution_count": 13,
   "metadata": {
    "autoscroll": false,
    "ein.hycell": false,
    "ein.tags": "worksheet-0",
    "slideshow": {
     "slide_type": "-"
    }
   },
   "outputs": [
    {
     "name": "stdout",
     "output_type": "stream",
     "text": [
      "int64\n",
      "[[ 0  1  2  3  4  5  6  7  8  9]\n",
      " [10 11 12 13 14 15 16 17 18 19]\n",
      " [20 21 22 23 24 25 26 27 28 29]\n",
      " [30 31 32 33 34 35 36 37 38 39]\n",
      " [40 41 42 43 44 45 46 47 48 49]\n",
      " [50 51 52 53 54 55 56 57 58 59]\n",
      " [60 61 62 63 64 65 66 67 68 69]\n",
      " [70 71 72 73 74 75 76 77 78 79]\n",
      " [80 81 82 83 84 85 86 87 88 89]\n",
      " [90 91 92 93 94 95 96 97 98 99]]\n"
     ]
    }
   ],
   "source": [
    "with open(\"hz.csv\") as ipt:\n",
    "    ri_hz = np.loadtxt(ipt, dtype=int)\n",
    "print(ri_hz.dtype)\n",
    "print(ri_hz)"
   ]
  },
  {
   "cell_type": "markdown",
   "metadata": {
    "ein.tags": "worksheet-0",
    "slideshow": {
     "slide_type": "subslide"
    }
   },
   "source": [
    "## CSV的特点\n",
    "\n",
    "- 优点：简单直观，兼容性极强\n",
    "- 缺点：需要每次都指定格式和读入时的数据类型\n",
    "  - 只能表示表格\n",
    "- 是否可以把数据类型也存到文件中？\n",
    "  - 人类还可以直接读取吗？\n",
    "  - 另加约定是否可以成为标准？\n",
    "  - HDF5\n",
    "- 表格之外的格式怎么办？\n",
    "  - 使用 JSON，具有额外的格式定义\n"
   ]
  },
  {
   "cell_type": "markdown",
   "metadata": {
    "ein.tags": "worksheet-0",
    "slideshow": {
     "slide_type": "slide"
    }
   },
   "source": [
    "## Hierarchical Data Format (HDF)\n",
    "- 起源于高性能计算领域，目前标准由 The HDF Group 非盈利组织开发和维护\n",
    "- 从 HDF 第 4 代起，获得广泛应用，特别是天文学\n",
    "- 现在是第 5 代，因为叫做 HDF5\n",
    "  - 原始表示：数据不必转换成文本。不涉及转换误差，但丧失了对人类的可读性。\n",
    "  - 自我描述：数据类型写在文件中，可以被自动识别\n",
    "  - 支持所有主流语言，有多种查看器\n",
    "  - 缺点：对 ASCII 之外的字符支持没有标准，不保证可以处理中文。\n",
    "    "
   ]
  },
  {
   "cell_type": "markdown",
   "metadata": {
    "ein.tags": "worksheet-0",
    "slideshow": {
     "slide_type": "subslide"
    }
   },
   "source": [
    "### HDF5 的结构\n",
    "- 数据集(Dataset): 多维数组\n",
    "- 组(Group): 数据集的容器\n",
    "- 组可以嵌套，使用 `/` 分隔\n",
    "  - `/calibration/water/waveform`\n",
    "- 元数据(Metadata)：用于描述数据集或组的特征\n",
    "  "
   ]
  },
  {
   "cell_type": "markdown",
   "metadata": {
    "ein.tags": "worksheet-0",
    "slideshow": {
     "slide_type": "subslide"
    }
   },
   "source": [
    "### Python 的 HDF5 工具\n",
    "- H5PY: 极简的工具库，允许 Python 调用 HDF5 的 C++ 库。\n",
    "  - 数据格式兼容性好，可以与其它语言交换数据。\n",
    "- PyTables: 在 HDF5 之上进行了自定义格式，对读写有优化，但是损失了兼容性。\n",
    "  - 可以读入标准 HDF5 文件，但是容易不小心写出非标准 HDF5 文件。\n",
    "- 课程选择 H5PY，当兼容性和性能冲突时，优先选择兼容性。\n",
    "  - Eric S. Raymond, The art of unix programming\n",
    "  "
   ]
  },
  {
   "cell_type": "markdown",
   "metadata": {
    "ein.tags": "worksheet-0",
    "slideshow": {
     "slide_type": "-"
    }
   },
   "source": [
    "### 安装 H5PY\n",
    "\n",
    "```\n",
    "sudo apt install python3-h5py\n",
    "```"
   ]
  },
  {
   "cell_type": "code",
   "execution_count": 14,
   "metadata": {
    "autoscroll": false,
    "ein.hycell": false,
    "ein.tags": "worksheet-0",
    "slideshow": {
     "slide_type": "subslide"
    }
   },
   "outputs": [],
   "source": [
    "import h5py\n",
    "\n",
    "with h5py.File(\"hz.h5\", \"w\") as opt:\n",
    "    opt[\"hz\"] = hz\n"
   ]
  },
  {
   "cell_type": "markdown",
   "metadata": {
    "ein.tags": "worksheet-0",
    "slideshow": {
     "slide_type": "-"
    }
   },
   "source": [
    "- 注意写入风格与 CSV 的异同\n",
    "- h5py.File 返回的 opt 可以看作一个字典。\n"
   ]
  },
  {
   "cell_type": "code",
   "execution_count": 17,
   "metadata": {
    "autoscroll": false,
    "ein.hycell": false,
    "ein.tags": "worksheet-0",
    "slideshow": {
     "slide_type": "subslide"
    }
   },
   "outputs": [
    {
     "name": "stdout",
     "output_type": "stream",
     "text": [
      "[[ 0  1  2  3  4  5  6  7  8  9]\n",
      " [10 11 12 13 14 15 16 17 18 19]\n",
      " [20 21 22 23 24 25 26 27 28 29]\n",
      " [30 31 32 33 34 35 36 37 38 39]\n",
      " [40 41 42 43 44 45 46 47 48 49]\n",
      " [50 51 52 53 54 55 56 57 58 59]\n",
      " [60 61 62 63 64 65 66 67 68 69]\n",
      " [70 71 72 73 74 75 76 77 78 79]\n",
      " [80 81 82 83 84 85 86 87 88 89]\n",
      " [90 91 92 93 94 95 96 97 98 99]]\n"
     ]
    }
   ],
   "source": [
    "with h5py.File(\"hz.h5\") as ipt:\n",
    "    h5_hz = ipt[\"hz\"][...]\n",
    "print(h5_hz)"
   ]
  },
  {
   "cell_type": "markdown",
   "metadata": {
    "ein.tags": "worksheet-0",
    "slideshow": {
     "slide_type": "-"
    }
   },
   "source": [
    "- `[...]` 或 `[()]` 代表把数据全部读入内存。\n",
    "- 如果内存不够，H5PY 提供了部分读入的功能，也叫做 \"Out of core computing\"。\n"
   ]
  },
  {
   "cell_type": "code",
   "execution_count": 19,
   "metadata": {
    "autoscroll": false,
    "ein.hycell": false,
    "ein.tags": "worksheet-0",
    "slideshow": {
     "slide_type": "subslide"
    }
   },
   "outputs": [
    {
     "data": {
      "text/plain": [
       "array([[20, 25],\n",
       "       [50, 55],\n",
       "       [80, 85]])"
      ]
     },
     "execution_count": 19,
     "metadata": {},
     "output_type": "execute_result"
    }
   ],
   "source": [
    "ipt = h5py.File(\"hz.h5\")\n",
    "ipt[\"hz\"][2::3, ::5]"
   ]
  },
  {
   "cell_type": "code",
   "execution_count": 20,
   "metadata": {
    "autoscroll": false,
    "ein.hycell": false,
    "ein.tags": "worksheet-0",
    "slideshow": {
     "slide_type": "-"
    }
   },
   "outputs": [
    {
     "ename": "ValueError",
     "evalue": "Not a location (invalid object ID)",
     "output_type": "error",
     "traceback": [
      "\u001b[0;31m---------------------------------------------------------------------------\u001b[0m",
      "\u001b[0;31mValueError\u001b[0m                                Traceback (most recent call last)",
      "\u001b[0;32m<ipython-input-20-5f087561c658>\u001b[0m in \u001b[0;36m<module>\u001b[0;34m\u001b[0m\n\u001b[1;32m      1\u001b[0m \u001b[0mipt\u001b[0m\u001b[0;34m.\u001b[0m\u001b[0mclose\u001b[0m\u001b[0;34m(\u001b[0m\u001b[0;34m)\u001b[0m\u001b[0;34m\u001b[0m\u001b[0m\n\u001b[0;32m----> 2\u001b[0;31m \u001b[0mipt\u001b[0m\u001b[0;34m[\u001b[0m\u001b[0;34m\"hz\"\u001b[0m\u001b[0;34m]\u001b[0m\u001b[0;34m[\u001b[0m\u001b[0;36m2\u001b[0m\u001b[0;34m:\u001b[0m\u001b[0;34m:\u001b[0m\u001b[0;36m3\u001b[0m\u001b[0;34m,\u001b[0m \u001b[0;34m:\u001b[0m\u001b[0;34m:\u001b[0m\u001b[0;36m5\u001b[0m\u001b[0;34m]\u001b[0m\u001b[0;34m\u001b[0m\u001b[0m\n\u001b[0m",
      "\u001b[0;32mh5py/_objects.pyx\u001b[0m in \u001b[0;36mh5py._objects.with_phil.wrapper\u001b[0;34m()\u001b[0m\n",
      "\u001b[0;32mh5py/_objects.pyx\u001b[0m in \u001b[0;36mh5py._objects.with_phil.wrapper\u001b[0;34m()\u001b[0m\n",
      "\u001b[0;32m/usr/lib64/python3.6/site-packages/h5py/_hl/group.py\u001b[0m in \u001b[0;36m__getitem__\u001b[0;34m(self, name)\u001b[0m\n\u001b[1;32m    260\u001b[0m                 \u001b[0;32mraise\u001b[0m \u001b[0mValueError\u001b[0m\u001b[0;34m(\u001b[0m\u001b[0;34m\"Invalid HDF5 object reference\"\u001b[0m\u001b[0;34m)\u001b[0m\u001b[0;34m\u001b[0m\u001b[0m\n\u001b[1;32m    261\u001b[0m         \u001b[0;32melse\u001b[0m\u001b[0;34m:\u001b[0m\u001b[0;34m\u001b[0m\u001b[0m\n\u001b[0;32m--> 262\u001b[0;31m             \u001b[0moid\u001b[0m \u001b[0;34m=\u001b[0m \u001b[0mh5o\u001b[0m\u001b[0;34m.\u001b[0m\u001b[0mopen\u001b[0m\u001b[0;34m(\u001b[0m\u001b[0mself\u001b[0m\u001b[0;34m.\u001b[0m\u001b[0mid\u001b[0m\u001b[0;34m,\u001b[0m \u001b[0mself\u001b[0m\u001b[0;34m.\u001b[0m\u001b[0m_e\u001b[0m\u001b[0;34m(\u001b[0m\u001b[0mname\u001b[0m\u001b[0;34m)\u001b[0m\u001b[0;34m,\u001b[0m \u001b[0mlapl\u001b[0m\u001b[0;34m=\u001b[0m\u001b[0mself\u001b[0m\u001b[0;34m.\u001b[0m\u001b[0m_lapl\u001b[0m\u001b[0;34m)\u001b[0m\u001b[0;34m\u001b[0m\u001b[0m\n\u001b[0m\u001b[1;32m    263\u001b[0m \u001b[0;34m\u001b[0m\u001b[0m\n\u001b[1;32m    264\u001b[0m         \u001b[0motype\u001b[0m \u001b[0;34m=\u001b[0m \u001b[0mh5i\u001b[0m\u001b[0;34m.\u001b[0m\u001b[0mget_type\u001b[0m\u001b[0;34m(\u001b[0m\u001b[0moid\u001b[0m\u001b[0;34m)\u001b[0m\u001b[0;34m\u001b[0m\u001b[0m\n",
      "\u001b[0;32mh5py/_objects.pyx\u001b[0m in \u001b[0;36mh5py._objects.with_phil.wrapper\u001b[0;34m()\u001b[0m\n",
      "\u001b[0;32mh5py/_objects.pyx\u001b[0m in \u001b[0;36mh5py._objects.with_phil.wrapper\u001b[0;34m()\u001b[0m\n",
      "\u001b[0;32mh5py/h5o.pyx\u001b[0m in \u001b[0;36mh5py.h5o.open\u001b[0;34m()\u001b[0m\n",
      "\u001b[0;31mValueError\u001b[0m: Not a location (invalid object ID)"
     ]
    }
   ],
   "source": [
    "ipt.close() # 关闭之后就无法使用了\n",
    "ipt[\"hz\"][2::3, ::5]"
   ]
  },
  {
   "cell_type": "markdown",
   "metadata": {
    "ein.tags": "worksheet-0",
    "slideshow": {
     "slide_type": "subslide"
    }
   },
   "source": [
    "## 创建组\n",
    "\n",
    "- 当有多个数据集时，可以通过组来对其进行归类和整理。\n"
   ]
  },
  {
   "cell_type": "code",
   "execution_count": 22,
   "metadata": {
    "autoscroll": false,
    "ein.hycell": false,
    "ein.tags": "worksheet-0",
    "slideshow": {
     "slide_type": "-"
    }
   },
   "outputs": [],
   "source": [
    "with h5py.File(\"hzg.h5\", \"w\") as opt:\n",
    "    opt.create_group(\"/demo\")\n",
    "    opt[\"demo\"][\"hz\"] = hz\n"
   ]
  },
  {
   "cell_type": "code",
   "execution_count": 25,
   "metadata": {
    "autoscroll": false,
    "ein.hycell": false,
    "ein.tags": "worksheet-0",
    "slideshow": {
     "slide_type": "-"
    }
   },
   "outputs": [
    {
     "name": "stdout",
     "output_type": "stream",
     "text": [
      "[[ 0  1  2  3  4  5  6  7  8  9]\n",
      " [10 11 12 13 14 15 16 17 18 19]\n",
      " [20 21 22 23 24 25 26 27 28 29]\n",
      " [30 31 32 33 34 35 36 37 38 39]\n",
      " [40 41 42 43 44 45 46 47 48 49]\n",
      " [50 51 52 53 54 55 56 57 58 59]\n",
      " [60 61 62 63 64 65 66 67 68 69]\n",
      " [70 71 72 73 74 75 76 77 78 79]\n",
      " [80 81 82 83 84 85 86 87 88 89]\n",
      " [90 91 92 93 94 95 96 97 98 99]]\n"
     ]
    }
   ],
   "source": [
    "with h5py.File(\"hzg.h5\") as ipt:\n",
    "    h5_hz = ipt[\"demo\"][\"hz\"][()]\n",
    "print(h5_hz)"
   ]
  },
  {
   "cell_type": "markdown",
   "metadata": {
    "ein.tags": "worksheet-0",
    "slideshow": {
     "slide_type": "slide"
    }
   },
   "source": [
    "## JavaScript Object Notation (JSON) \n",
    "\n",
    "- JSON 最早从网站前端的 javascript 社区出现，用于代替 Extensible\n",
    "  Markup Language (XML)。\n",
    "  - 更加易于人类理解\n",
    "  - 适合传递有层次的数据，特别是文本\n",
    "  - 优点：与 Python 的字典结构相近\n",
    "  - 缺点：数字的表达能力较弱"
   ]
  },
  {
   "cell_type": "code",
   "execution_count": 29,
   "metadata": {
    "autoscroll": false,
    "ein.hycell": false,
    "ein.tags": "worksheet-0",
    "slideshow": {
     "slide_type": "subslide"
    }
   },
   "outputs": [
    {
     "data": {
      "text/plain": [
       "dict"
      ]
     },
     "execution_count": 29,
     "metadata": {},
     "output_type": "execute_result"
    }
   ],
   "source": [
    "import json\n",
    "\n",
    "events = json.load(open(\"BBH_events_v3.json\",\"r\"))\n",
    "type(events) # 就是一个字典"
   ]
  },
  {
   "cell_type": "code",
   "execution_count": 28,
   "metadata": {
    "autoscroll": false,
    "ein.hycell": false,
    "ein.tags": "worksheet-0",
    "slideshow": {
     "slide_type": "-"
    }
   },
   "outputs": [
    {
     "name": "stdout",
     "output_type": "stream",
     "text": [
      "dict_keys(['GW150914', 'LVT151012', 'GW151226', 'GW170104'])\n"
     ]
    }
   ],
   "source": [
    "print(events.keys())"
   ]
  },
  {
   "cell_type": "code",
   "execution_count": 30,
   "metadata": {
    "autoscroll": false,
    "ein.hycell": false,
    "ein.tags": "worksheet-0",
    "slideshow": {
     "slide_type": "subslide"
    }
   },
   "outputs": [
    {
     "data": {
      "text/plain": [
       "{'name': 'GW150914',\n",
       " 'fn_H1': 'H-H1_LOSC_4_V2-1126259446-32.hdf5',\n",
       " 'fn_L1': 'L-L1_LOSC_4_V2-1126259446-32.hdf5',\n",
       " 'fn_template': 'GW150914_4_template.hdf5',\n",
       " 'fs': 4096,\n",
       " 'tevent': 1126259462.44,\n",
       " 'utcevent': '2015-09-14T09:50:45.44',\n",
       " 'm1': 41.743,\n",
       " 'm2': 29.237,\n",
       " 'a1': 0.355,\n",
       " 'a2': -0.769,\n",
       " 'approx': 'lalsim.SEOBNRv2',\n",
       " 'fband': [43.0, 300.0],\n",
       " 'f_min': 10.0}"
      ]
     },
     "execution_count": 30,
     "metadata": {},
     "output_type": "execute_result"
    }
   ],
   "source": [
    "events['GW150914']"
   ]
  },
  {
   "cell_type": "markdown",
   "metadata": {
    "ein.tags": "worksheet-0",
    "slideshow": {
     "slide_type": "subslide"
    }
   },
   "source": [
    "- JSON 输出\n"
   ]
  },
  {
   "cell_type": "code",
   "execution_count": 31,
   "metadata": {
    "autoscroll": false,
    "ein.hycell": false,
    "ein.tags": "worksheet-0",
    "slideshow": {
     "slide_type": "-"
    }
   },
   "outputs": [],
   "source": [
    "json.dump(events, open(\"BBH_events_rewrite.json\", 'w'))"
   ]
  },
  {
   "cell_type": "code",
   "execution_count": 33,
   "metadata": {
    "autoscroll": false,
    "ein.hycell": false,
    "ein.tags": "worksheet-0",
    "slideshow": {
     "slide_type": "-"
    }
   },
   "outputs": [],
   "source": [
    "json.dump(events, open(\"BBH_events_indent.json\", 'w'), indent=2)"
   ]
  },
  {
   "cell_type": "markdown",
   "metadata": {
    "autoscroll": false,
    "ein.hycell": false,
    "ein.tags": "worksheet-0",
    "slideshow": {
     "slide_type": "slide"
    }
   },
   "source": [
    "## 大作业的具体形式\n",
    "\n",
    "- 第一二周课程：生成数据\n",
    "  - TOLA\n",
    "  - 扫描隧道显微镜\n",
    "  - 中微子实验光电子信号\n",
    "- 第三四周课程：分析数据\n",
    "  - 无限的探索空间"
   ]
  }
 ],
 "metadata": {
  "celltoolbar": "Slideshow",
  "kernelspec": {
   "display_name": "Python 3",
   "language": "python",
   "name": "python3"
  },
  "language_info": {
   "codemirror_mode": {
    "name": "ipython",
    "version": 3
   },
   "file_extension": ".py",
   "mimetype": "text/x-python",
   "name": "python",
   "nbconvert_exporter": "python",
   "pygments_lexer": "ipython3",
   "version": "3.6.5"
  },
  "name": "Data-Formats.ipynb"
 },
 "nbformat": 4,
 "nbformat_minor": 2
}
